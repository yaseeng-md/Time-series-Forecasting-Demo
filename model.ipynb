{
 "cells": [
  {
   "cell_type": "code",
   "execution_count": 70,
   "id": "979290fa-5d7e-42e9-a5ef-e525ab707b84",
   "metadata": {},
   "outputs": [],
   "source": [
    "import tensorflow as tf\n",
    "import pandas as pd\n",
    "import numpy as np\n",
    "import os\n",
    "import keras\n",
    "import matplotlib.pyplot as plt\n",
    "import seaborn as sns\n",
    "from sklearn.preprocessing import StandardScaler\n",
    "from tensorflow.keras.models import Sequential\n",
    "from tensorflow.keras.layers import *\n",
    "from tensorflow.keras.losses import MeanSquaredError\n",
    "from tensorflow.keras.callbacks import ModelCheckpoint\n",
    "from tensorflow.keras.optimizers import Adam\n",
    "from tensorflow.keras.metrics import RootMeanSquaredError"
   ]
  },
  {
   "cell_type": "code",
   "execution_count": 2,
   "id": "96efff75-93cd-450f-857f-5d692dfcef8d",
   "metadata": {},
   "outputs": [],
   "source": [
    "zip_path = tf.keras.utils.get_file(\n",
    "    origin='https://storage.googleapis.com/tensorflow/tf-keras-datasets/jena_climate_2009_2016.csv.zip',\n",
    "    fname='jena_climate_2009_2016.csv.zip',\n",
    "    extract=True)\n",
    "csv_path, _ = os.path.splitext(zip_path)"
   ]
  },
  {
   "cell_type": "code",
   "execution_count": 3,
   "id": "f6aceb09-c00d-4cc0-9f62-7f5386618cf3",
   "metadata": {},
   "outputs": [
    {
     "data": {
      "text/html": [
       "<div>\n",
       "<style scoped>\n",
       "    .dataframe tbody tr th:only-of-type {\n",
       "        vertical-align: middle;\n",
       "    }\n",
       "\n",
       "    .dataframe tbody tr th {\n",
       "        vertical-align: top;\n",
       "    }\n",
       "\n",
       "    .dataframe thead th {\n",
       "        text-align: right;\n",
       "    }\n",
       "</style>\n",
       "<table border=\"1\" class=\"dataframe\">\n",
       "  <thead>\n",
       "    <tr style=\"text-align: right;\">\n",
       "      <th></th>\n",
       "      <th>Date Time</th>\n",
       "      <th>p (mbar)</th>\n",
       "      <th>T (degC)</th>\n",
       "      <th>Tpot (K)</th>\n",
       "      <th>Tdew (degC)</th>\n",
       "      <th>rh (%)</th>\n",
       "      <th>VPmax (mbar)</th>\n",
       "      <th>VPact (mbar)</th>\n",
       "      <th>VPdef (mbar)</th>\n",
       "      <th>sh (g/kg)</th>\n",
       "      <th>H2OC (mmol/mol)</th>\n",
       "      <th>rho (g/m**3)</th>\n",
       "      <th>wv (m/s)</th>\n",
       "      <th>max. wv (m/s)</th>\n",
       "      <th>wd (deg)</th>\n",
       "    </tr>\n",
       "  </thead>\n",
       "  <tbody>\n",
       "    <tr>\n",
       "      <th>0</th>\n",
       "      <td>01.01.2009 00:10:00</td>\n",
       "      <td>996.52</td>\n",
       "      <td>-8.02</td>\n",
       "      <td>265.40</td>\n",
       "      <td>-8.90</td>\n",
       "      <td>93.3</td>\n",
       "      <td>3.33</td>\n",
       "      <td>3.11</td>\n",
       "      <td>0.22</td>\n",
       "      <td>1.94</td>\n",
       "      <td>3.12</td>\n",
       "      <td>1307.75</td>\n",
       "      <td>1.03</td>\n",
       "      <td>1.75</td>\n",
       "      <td>152.3</td>\n",
       "    </tr>\n",
       "    <tr>\n",
       "      <th>1</th>\n",
       "      <td>01.01.2009 00:20:00</td>\n",
       "      <td>996.57</td>\n",
       "      <td>-8.41</td>\n",
       "      <td>265.01</td>\n",
       "      <td>-9.28</td>\n",
       "      <td>93.4</td>\n",
       "      <td>3.23</td>\n",
       "      <td>3.02</td>\n",
       "      <td>0.21</td>\n",
       "      <td>1.89</td>\n",
       "      <td>3.03</td>\n",
       "      <td>1309.80</td>\n",
       "      <td>0.72</td>\n",
       "      <td>1.50</td>\n",
       "      <td>136.1</td>\n",
       "    </tr>\n",
       "    <tr>\n",
       "      <th>2</th>\n",
       "      <td>01.01.2009 00:30:00</td>\n",
       "      <td>996.53</td>\n",
       "      <td>-8.51</td>\n",
       "      <td>264.91</td>\n",
       "      <td>-9.31</td>\n",
       "      <td>93.9</td>\n",
       "      <td>3.21</td>\n",
       "      <td>3.01</td>\n",
       "      <td>0.20</td>\n",
       "      <td>1.88</td>\n",
       "      <td>3.02</td>\n",
       "      <td>1310.24</td>\n",
       "      <td>0.19</td>\n",
       "      <td>0.63</td>\n",
       "      <td>171.6</td>\n",
       "    </tr>\n",
       "    <tr>\n",
       "      <th>3</th>\n",
       "      <td>01.01.2009 00:40:00</td>\n",
       "      <td>996.51</td>\n",
       "      <td>-8.31</td>\n",
       "      <td>265.12</td>\n",
       "      <td>-9.07</td>\n",
       "      <td>94.2</td>\n",
       "      <td>3.26</td>\n",
       "      <td>3.07</td>\n",
       "      <td>0.19</td>\n",
       "      <td>1.92</td>\n",
       "      <td>3.08</td>\n",
       "      <td>1309.19</td>\n",
       "      <td>0.34</td>\n",
       "      <td>0.50</td>\n",
       "      <td>198.0</td>\n",
       "    </tr>\n",
       "    <tr>\n",
       "      <th>4</th>\n",
       "      <td>01.01.2009 00:50:00</td>\n",
       "      <td>996.51</td>\n",
       "      <td>-8.27</td>\n",
       "      <td>265.15</td>\n",
       "      <td>-9.04</td>\n",
       "      <td>94.1</td>\n",
       "      <td>3.27</td>\n",
       "      <td>3.08</td>\n",
       "      <td>0.19</td>\n",
       "      <td>1.92</td>\n",
       "      <td>3.09</td>\n",
       "      <td>1309.00</td>\n",
       "      <td>0.32</td>\n",
       "      <td>0.63</td>\n",
       "      <td>214.3</td>\n",
       "    </tr>\n",
       "  </tbody>\n",
       "</table>\n",
       "</div>"
      ],
      "text/plain": [
       "             Date Time  p (mbar)  T (degC)  Tpot (K)  Tdew (degC)  rh (%)  \\\n",
       "0  01.01.2009 00:10:00    996.52     -8.02    265.40        -8.90    93.3   \n",
       "1  01.01.2009 00:20:00    996.57     -8.41    265.01        -9.28    93.4   \n",
       "2  01.01.2009 00:30:00    996.53     -8.51    264.91        -9.31    93.9   \n",
       "3  01.01.2009 00:40:00    996.51     -8.31    265.12        -9.07    94.2   \n",
       "4  01.01.2009 00:50:00    996.51     -8.27    265.15        -9.04    94.1   \n",
       "\n",
       "   VPmax (mbar)  VPact (mbar)  VPdef (mbar)  sh (g/kg)  H2OC (mmol/mol)  \\\n",
       "0          3.33          3.11          0.22       1.94             3.12   \n",
       "1          3.23          3.02          0.21       1.89             3.03   \n",
       "2          3.21          3.01          0.20       1.88             3.02   \n",
       "3          3.26          3.07          0.19       1.92             3.08   \n",
       "4          3.27          3.08          0.19       1.92             3.09   \n",
       "\n",
       "   rho (g/m**3)  wv (m/s)  max. wv (m/s)  wd (deg)  \n",
       "0       1307.75      1.03           1.75     152.3  \n",
       "1       1309.80      0.72           1.50     136.1  \n",
       "2       1310.24      0.19           0.63     171.6  \n",
       "3       1309.19      0.34           0.50     198.0  \n",
       "4       1309.00      0.32           0.63     214.3  "
      ]
     },
     "execution_count": 3,
     "metadata": {},
     "output_type": "execute_result"
    }
   ],
   "source": [
    "data = pd.read_csv(csv_path)\n",
    "data.head()"
   ]
  },
  {
   "cell_type": "code",
   "execution_count": 4,
   "id": "0f7f6002-a047-40b9-81e9-580b9f4163e4",
   "metadata": {},
   "outputs": [
    {
     "data": {
      "text/html": [
       "<div>\n",
       "<style scoped>\n",
       "    .dataframe tbody tr th:only-of-type {\n",
       "        vertical-align: middle;\n",
       "    }\n",
       "\n",
       "    .dataframe tbody tr th {\n",
       "        vertical-align: top;\n",
       "    }\n",
       "\n",
       "    .dataframe thead th {\n",
       "        text-align: right;\n",
       "    }\n",
       "</style>\n",
       "<table border=\"1\" class=\"dataframe\">\n",
       "  <thead>\n",
       "    <tr style=\"text-align: right;\">\n",
       "      <th></th>\n",
       "      <th>Date Time</th>\n",
       "      <th>p (mbar)</th>\n",
       "      <th>T (degC)</th>\n",
       "      <th>Tpot (K)</th>\n",
       "      <th>Tdew (degC)</th>\n",
       "      <th>rh (%)</th>\n",
       "      <th>VPmax (mbar)</th>\n",
       "      <th>VPact (mbar)</th>\n",
       "      <th>VPdef (mbar)</th>\n",
       "      <th>sh (g/kg)</th>\n",
       "      <th>H2OC (mmol/mol)</th>\n",
       "      <th>rho (g/m**3)</th>\n",
       "      <th>wv (m/s)</th>\n",
       "      <th>max. wv (m/s)</th>\n",
       "      <th>wd (deg)</th>\n",
       "    </tr>\n",
       "    <tr>\n",
       "      <th>Date Time</th>\n",
       "      <th></th>\n",
       "      <th></th>\n",
       "      <th></th>\n",
       "      <th></th>\n",
       "      <th></th>\n",
       "      <th></th>\n",
       "      <th></th>\n",
       "      <th></th>\n",
       "      <th></th>\n",
       "      <th></th>\n",
       "      <th></th>\n",
       "      <th></th>\n",
       "      <th></th>\n",
       "      <th></th>\n",
       "      <th></th>\n",
       "    </tr>\n",
       "  </thead>\n",
       "  <tbody>\n",
       "    <tr>\n",
       "      <th>2009-01-01 00:10:00</th>\n",
       "      <td>01.01.2009 00:10:00</td>\n",
       "      <td>996.52</td>\n",
       "      <td>-8.02</td>\n",
       "      <td>265.40</td>\n",
       "      <td>-8.90</td>\n",
       "      <td>93.3</td>\n",
       "      <td>3.33</td>\n",
       "      <td>3.11</td>\n",
       "      <td>0.22</td>\n",
       "      <td>1.94</td>\n",
       "      <td>3.12</td>\n",
       "      <td>1307.75</td>\n",
       "      <td>1.03</td>\n",
       "      <td>1.75</td>\n",
       "      <td>152.3</td>\n",
       "    </tr>\n",
       "    <tr>\n",
       "      <th>2009-01-01 00:20:00</th>\n",
       "      <td>01.01.2009 00:20:00</td>\n",
       "      <td>996.57</td>\n",
       "      <td>-8.41</td>\n",
       "      <td>265.01</td>\n",
       "      <td>-9.28</td>\n",
       "      <td>93.4</td>\n",
       "      <td>3.23</td>\n",
       "      <td>3.02</td>\n",
       "      <td>0.21</td>\n",
       "      <td>1.89</td>\n",
       "      <td>3.03</td>\n",
       "      <td>1309.80</td>\n",
       "      <td>0.72</td>\n",
       "      <td>1.50</td>\n",
       "      <td>136.1</td>\n",
       "    </tr>\n",
       "    <tr>\n",
       "      <th>2009-01-01 00:30:00</th>\n",
       "      <td>01.01.2009 00:30:00</td>\n",
       "      <td>996.53</td>\n",
       "      <td>-8.51</td>\n",
       "      <td>264.91</td>\n",
       "      <td>-9.31</td>\n",
       "      <td>93.9</td>\n",
       "      <td>3.21</td>\n",
       "      <td>3.01</td>\n",
       "      <td>0.20</td>\n",
       "      <td>1.88</td>\n",
       "      <td>3.02</td>\n",
       "      <td>1310.24</td>\n",
       "      <td>0.19</td>\n",
       "      <td>0.63</td>\n",
       "      <td>171.6</td>\n",
       "    </tr>\n",
       "    <tr>\n",
       "      <th>2009-01-01 00:40:00</th>\n",
       "      <td>01.01.2009 00:40:00</td>\n",
       "      <td>996.51</td>\n",
       "      <td>-8.31</td>\n",
       "      <td>265.12</td>\n",
       "      <td>-9.07</td>\n",
       "      <td>94.2</td>\n",
       "      <td>3.26</td>\n",
       "      <td>3.07</td>\n",
       "      <td>0.19</td>\n",
       "      <td>1.92</td>\n",
       "      <td>3.08</td>\n",
       "      <td>1309.19</td>\n",
       "      <td>0.34</td>\n",
       "      <td>0.50</td>\n",
       "      <td>198.0</td>\n",
       "    </tr>\n",
       "    <tr>\n",
       "      <th>2009-01-01 00:50:00</th>\n",
       "      <td>01.01.2009 00:50:00</td>\n",
       "      <td>996.51</td>\n",
       "      <td>-8.27</td>\n",
       "      <td>265.15</td>\n",
       "      <td>-9.04</td>\n",
       "      <td>94.1</td>\n",
       "      <td>3.27</td>\n",
       "      <td>3.08</td>\n",
       "      <td>0.19</td>\n",
       "      <td>1.92</td>\n",
       "      <td>3.09</td>\n",
       "      <td>1309.00</td>\n",
       "      <td>0.32</td>\n",
       "      <td>0.63</td>\n",
       "      <td>214.3</td>\n",
       "    </tr>\n",
       "  </tbody>\n",
       "</table>\n",
       "</div>"
      ],
      "text/plain": [
       "                               Date Time  p (mbar)  T (degC)  Tpot (K)  \\\n",
       "Date Time                                                                \n",
       "2009-01-01 00:10:00  01.01.2009 00:10:00    996.52     -8.02    265.40   \n",
       "2009-01-01 00:20:00  01.01.2009 00:20:00    996.57     -8.41    265.01   \n",
       "2009-01-01 00:30:00  01.01.2009 00:30:00    996.53     -8.51    264.91   \n",
       "2009-01-01 00:40:00  01.01.2009 00:40:00    996.51     -8.31    265.12   \n",
       "2009-01-01 00:50:00  01.01.2009 00:50:00    996.51     -8.27    265.15   \n",
       "\n",
       "                     Tdew (degC)  rh (%)  VPmax (mbar)  VPact (mbar)  \\\n",
       "Date Time                                                              \n",
       "2009-01-01 00:10:00        -8.90    93.3          3.33          3.11   \n",
       "2009-01-01 00:20:00        -9.28    93.4          3.23          3.02   \n",
       "2009-01-01 00:30:00        -9.31    93.9          3.21          3.01   \n",
       "2009-01-01 00:40:00        -9.07    94.2          3.26          3.07   \n",
       "2009-01-01 00:50:00        -9.04    94.1          3.27          3.08   \n",
       "\n",
       "                     VPdef (mbar)  sh (g/kg)  H2OC (mmol/mol)  rho (g/m**3)  \\\n",
       "Date Time                                                                     \n",
       "2009-01-01 00:10:00          0.22       1.94             3.12       1307.75   \n",
       "2009-01-01 00:20:00          0.21       1.89             3.03       1309.80   \n",
       "2009-01-01 00:30:00          0.20       1.88             3.02       1310.24   \n",
       "2009-01-01 00:40:00          0.19       1.92             3.08       1309.19   \n",
       "2009-01-01 00:50:00          0.19       1.92             3.09       1309.00   \n",
       "\n",
       "                     wv (m/s)  max. wv (m/s)  wd (deg)  \n",
       "Date Time                                               \n",
       "2009-01-01 00:10:00      1.03           1.75     152.3  \n",
       "2009-01-01 00:20:00      0.72           1.50     136.1  \n",
       "2009-01-01 00:30:00      0.19           0.63     171.6  \n",
       "2009-01-01 00:40:00      0.34           0.50     198.0  \n",
       "2009-01-01 00:50:00      0.32           0.63     214.3  "
      ]
     },
     "execution_count": 4,
     "metadata": {},
     "output_type": "execute_result"
    }
   ],
   "source": [
    "data.index = pd.to_datetime(data[\"Date Time\"],format = \"%d.%m.%Y %H:%M:%S\")\n",
    "data.head()"
   ]
  },
  {
   "cell_type": "markdown",
   "id": "49ff5657-7e4a-4f83-97e4-7bda99319578",
   "metadata": {},
   "source": [
    "## We are creating a Forecast Problem to Supervised problem"
   ]
  },
  {
   "cell_type": "markdown",
   "id": "a6676b84-57d0-452e-b35a-1c3f7890692c",
   "metadata": {},
   "source": [
    "We do that by the following:\n",
    "Actaully the input to the RNN or LSTM should be a Sequence'\n",
    "We have a function called \"tf.keras.preprocessing.sequence.TimeseriesGenerator\" for generationg this type of sequence \n",
    "The sequnece should be as follows\n",
    "\n",
    "\n",
    "X Y\n",
    "\n",
    "\n",
    "[[[1],[2],[3],[4],[5]]] [6]\n",
    "\n",
    "\n",
    "[[[2],[3],[4],[5],[6]]] [7]\n",
    "\n",
    "\n",
    "[[[3],[4],[5],[6],[7]]] [8]\n",
    "\n",
    "So we are using the data from timestamp 1 to 5 to predict output at 6th timestamp\n",
    "I.e., the data from 1 to 5 time stamp will be the Independendt variable(X) and 6th time stamp will be Target Varialbe(Y)\n",
    "\n",
    "We process the data into sequence Manually"
   ]
  },
  {
   "cell_type": "code",
   "execution_count": 5,
   "id": "25af9cc9-4fbe-47de-864f-8094bd2e9832",
   "metadata": {},
   "outputs": [],
   "source": [
    "def df_as_sequence_input(data,window_size = 5):\n",
    "    data_numpy = data.to_numpy()\n",
    "    x = []\n",
    "    y = []\n",
    "    for i in range(len(data_numpy) - window_size):\n",
    "        row = [[a] for a in data_numpy[i:i+window_size]]\n",
    "        x.append(row)\n",
    "        label = data_numpy[i+1]\n",
    "        y.append(label)\n",
    "    return np.array(x),np.array(y)\n",
    "            "
   ]
  },
  {
   "cell_type": "code",
   "execution_count": 6,
   "id": "e532716c-86f4-495a-8c25-39dd27db29be",
   "metadata": {},
   "outputs": [
    {
     "data": {
      "text/plain": [
       "array(['01.01.2009 00:20:00', 996.57, -8.41, 265.01, -9.28, 93.4, 3.23,\n",
       "       3.02, 0.21, 1.89, 3.03, 1309.8, 0.72, 1.5, 136.1], dtype=object)"
      ]
     },
     "execution_count": 6,
     "metadata": {},
     "output_type": "execute_result"
    }
   ],
   "source": [
    "data_numpy = data.to_numpy()\n",
    "data_numpy[1]"
   ]
  },
  {
   "cell_type": "code",
   "execution_count": 7,
   "id": "c8a8d80d-8382-431f-88df-ab8db3e33f14",
   "metadata": {},
   "outputs": [
    {
     "data": {
      "text/plain": [
       "<Axes: xlabel='Date Time'>"
      ]
     },
     "execution_count": 7,
     "metadata": {},
     "output_type": "execute_result"
    },
    {
     "data": {
      "image/png": "[encoded data removed]",
      "text/plain": [
       "<Figure size 640x480 with 1 Axes>"
      ]
     },
     "metadata": {},
     "output_type": "display_data"
    }
   ],
   "source": [
    "temp_data = data['T (degC)']\n",
    "temp_data.plot()"
   ]
  },
  {
   "cell_type": "code",
   "execution_count": 8,
   "id": "87a073f3-9b1f-4ef4-96ae-51c67d2b198c",
   "metadata": {
    "scrolled": true
   },
   "outputs": [
    {
     "data": {
      "text/plain": [
       "((420546, 5, 1), (420546,))"
      ]
     },
     "execution_count": 8,
     "metadata": {},
     "output_type": "execute_result"
    }
   ],
   "source": [
    "x,y = df_as_sequence_input(temp_data)\n",
    "x.shape,y.shape"
   ]
  },
  {
   "cell_type": "code",
   "execution_count": 9,
   "id": "c1d69f19-de8d-4f0b-9e34-363ac86116f8",
   "metadata": {},
   "outputs": [
    {
     "data": {
      "text/plain": [
       "42054.600000000006"
      ]
     },
     "execution_count": 9,
     "metadata": {},
     "output_type": "execute_result"
    }
   ],
   "source": [
    "(x.shape[0] * 0.1 )"
   ]
  },
  {
   "cell_type": "code",
   "execution_count": 10,
   "id": "20f7fe3f-c77e-4712-967b-de540a6b0493",
   "metadata": {},
   "outputs": [],
   "source": [
    "def train_test_val(x,y,train_ratio,test_ratio,val_ratio):\n",
    "    \n",
    "    train_size = int(x.shape[0] * train_ratio)\n",
    "    test_size =  int(x.shape[0] * test_ratio)\n",
    "    val_size =  int(x.shape[0] * val_ratio)\n",
    "    \n",
    "    x_train,y_train = x[:294382] , y[:294382]\n",
    "    x_val,y_val = x[294382:3018491],y[294382:3018491]\n",
    "    x_test,y_test = x[3018491:],y[3018491:]\n",
    "    \n",
    "    return x_train,y_train,x_test,y_test,x_val,y_val\n",
    "\n",
    "\n",
    "train_ratio = 0.7\n",
    "test_ratio = 0.1\n",
    "val_ratio = 1 - train_ratio - test_ratio\n",
    "\n",
    "x_train,y_train,x_test,y_test,x_val,y_val = train_test_val(x,y,train_ratio,test_ratio,val_ratio)"
   ]
  },
  {
   "cell_type": "code",
   "execution_count": 11,
   "id": "f221f7b5-37b8-4c0a-814b-73beb70c6f53",
   "metadata": {},
   "outputs": [
    {
     "data": {
      "text/plain": [
       "(294382, 5, 1)"
      ]
     },
     "execution_count": 11,
     "metadata": {},
     "output_type": "execute_result"
    }
   ],
   "source": [
    "x_train.shape"
   ]
  },
  {
   "cell_type": "code",
   "execution_count": 38,
   "id": "576e894e-4706-403a-a1d7-d51ec7370538",
   "metadata": {},
   "outputs": [],
   "source": [
    "model = Sequential([\n",
    "    InputLayer(shape=(5,1)),\n",
    "    LSTM(units=64),\n",
    "    Dense(units=8,activation=\"relu\"),\n",
    "    Dense(units = 1, activation=\"linear\")\n",
    "])"
   ]
  },
  {
   "cell_type": "code",
   "execution_count": 54,
   "id": "d4ebb24f-b1d9-416f-9a2c-50b5c7670c33",
   "metadata": {},
   "outputs": [],
   "source": [
    "check_points = ModelCheckpoint(\"model.keras\",monitor=\"val_loss\",save_best_only=True)\n",
    "model.compile(optimizer = Adam(learning_rate=0.001),loss=MeanSquaredError(),metrics = [RootMeanSquaredError()])"
   ]
  },
  {
   "cell_type": "code",
   "execution_count": 55,
   "id": "0014443f-8159-48a9-a565-e2c8c286e6ac",
   "metadata": {},
   "outputs": [
    {
     "name": "stdout",
     "output_type": "stream",
     "text": [
      "Epoch 1/25\n",
      "\u001b[1m9200/9200\u001b[0m \u001b[32m━━━━━━━━━━━━━━━━━━━━\u001b[0m\u001b[37m\u001b[0m \u001b[1m46s\u001b[0m 5ms/step - loss: 0.0027 - root_mean_squared_error: 0.0495 - val_loss: 5.0743e-04 - val_root_mean_squared_error: 0.0225\n",
      "Epoch 2/25\n",
      "\u001b[1m9200/9200\u001b[0m \u001b[32m━━━━━━━━━━━━━━━━━━━━\u001b[0m\u001b[37m\u001b[0m \u001b[1m45s\u001b[0m 5ms/step - loss: 0.0018 - root_mean_squared_error: 0.0427 - val_loss: 0.0013 - val_root_mean_squared_error: 0.0356\n",
      "Epoch 3/25\n",
      "\u001b[1m9200/9200\u001b[0m \u001b[32m━━━━━━━━━━━━━━━━━━━━\u001b[0m\u001b[37m\u001b[0m \u001b[1m42s\u001b[0m 5ms/step - loss: 0.0016 - root_mean_squared_error: 0.0395 - val_loss: 3.3598e-04 - val_root_mean_squared_error: 0.0183\n",
      "Epoch 4/25\n",
      "\u001b[1m9200/9200\u001b[0m \u001b[32m━━━━━━━━━━━━━━━━━━━━\u001b[0m\u001b[37m\u001b[0m \u001b[1m42s\u001b[0m 5ms/step - loss: 0.0013 - root_mean_squared_error: 0.0367 - val_loss: 4.7331e-04 - val_root_mean_squared_error: 0.0218\n",
      "Epoch 5/25\n",
      "\u001b[1m9200/9200\u001b[0m \u001b[32m━━━━━━━━━━━━━━━━━━━━\u001b[0m\u001b[37m\u001b[0m \u001b[1m39s\u001b[0m 4ms/step - loss: 0.0012 - root_mean_squared_error: 0.0348 - val_loss: 4.5506e-04 - val_root_mean_squared_error: 0.0213\n",
      "Epoch 6/25\n",
      "\u001b[1m9200/9200\u001b[0m \u001b[32m━━━━━━━━━━━━━━━━━━━━\u001b[0m\u001b[37m\u001b[0m \u001b[1m42s\u001b[0m 5ms/step - loss: 0.0012 - root_mean_squared_error: 0.0343 - val_loss: 5.3423e-04 - val_root_mean_squared_error: 0.0231\n",
      "Epoch 7/25\n",
      "\u001b[1m9200/9200\u001b[0m \u001b[32m━━━━━━━━━━━━━━━━━━━━\u001b[0m\u001b[37m\u001b[0m \u001b[1m40s\u001b[0m 4ms/step - loss: 9.7043e-04 - root_mean_squared_error: 0.0311 - val_loss: 0.0057 - val_root_mean_squared_error: 0.0758\n",
      "Epoch 8/25\n",
      "\u001b[1m9200/9200\u001b[0m \u001b[32m━━━━━━━━━━━━━━━━━━━━\u001b[0m\u001b[37m\u001b[0m \u001b[1m39s\u001b[0m 4ms/step - loss: 9.5962e-04 - root_mean_squared_error: 0.0308 - val_loss: 3.3089e-04 - val_root_mean_squared_error: 0.0182\n",
      "Epoch 9/25\n",
      "\u001b[1m9200/9200\u001b[0m \u001b[32m━━━━━━━━━━━━━━━━━━━━\u001b[0m\u001b[37m\u001b[0m \u001b[1m42s\u001b[0m 5ms/step - loss: 9.1094e-04 - root_mean_squared_error: 0.0302 - val_loss: 0.0013 - val_root_mean_squared_error: 0.0363\n",
      "Epoch 10/25\n",
      "\u001b[1m9200/9200\u001b[0m \u001b[32m━━━━━━━━━━━━━━━━━━━━\u001b[0m\u001b[37m\u001b[0m \u001b[1m42s\u001b[0m 5ms/step - loss: 7.7243e-04 - root_mean_squared_error: 0.0277 - val_loss: 4.7362e-04 - val_root_mean_squared_error: 0.0218\n",
      "Epoch 11/25\n",
      "\u001b[1m9200/9200\u001b[0m \u001b[32m━━━━━━━━━━━━━━━━━━━━\u001b[0m\u001b[37m\u001b[0m \u001b[1m42s\u001b[0m 5ms/step - loss: 7.9581e-04 - root_mean_squared_error: 0.0282 - val_loss: 4.6093e-04 - val_root_mean_squared_error: 0.0215\n",
      "Epoch 12/25\n",
      "\u001b[1m9200/9200\u001b[0m \u001b[32m━━━━━━━━━━━━━━━━━━━━\u001b[0m\u001b[37m\u001b[0m \u001b[1m41s\u001b[0m 4ms/step - loss: 7.0863e-04 - root_mean_squared_error: 0.0266 - val_loss: 0.0012 - val_root_mean_squared_error: 0.0345\n",
      "Epoch 13/25\n",
      "\u001b[1m9200/9200\u001b[0m \u001b[32m━━━━━━━━━━━━━━━━━━━━\u001b[0m\u001b[37m\u001b[0m \u001b[1m44s\u001b[0m 5ms/step - loss: 7.3950e-04 - root_mean_squared_error: 0.0272 - val_loss: 5.7122e-04 - val_root_mean_squared_error: 0.0239\n",
      "Epoch 14/25\n",
      "\u001b[1m9200/9200\u001b[0m \u001b[32m━━━━━━━━━━━━━━━━━━━━\u001b[0m\u001b[37m\u001b[0m \u001b[1m43s\u001b[0m 5ms/step - loss: 7.1200e-04 - root_mean_squared_error: 0.0265 - val_loss: 1.1081e-04 - val_root_mean_squared_error: 0.0105\n",
      "Epoch 15/25\n",
      "\u001b[1m9200/9200\u001b[0m \u001b[32m━━━━━━━━━━━━━━━━━━━━\u001b[0m\u001b[37m\u001b[0m \u001b[1m42s\u001b[0m 5ms/step - loss: 5.7093e-04 - root_mean_squared_error: 0.0237 - val_loss: 2.2232e-04 - val_root_mean_squared_error: 0.0149\n",
      "Epoch 16/25\n",
      "\u001b[1m9200/9200\u001b[0m \u001b[32m━━━━━━━━━━━━━━━━━━━━\u001b[0m\u001b[37m\u001b[0m \u001b[1m42s\u001b[0m 5ms/step - loss: 5.0866e-04 - root_mean_squared_error: 0.0225 - val_loss: 2.1497e-04 - val_root_mean_squared_error: 0.0147\n",
      "Epoch 17/25\n",
      "\u001b[1m9200/9200\u001b[0m \u001b[32m━━━━━━━━━━━━━━━━━━━━\u001b[0m\u001b[37m\u001b[0m \u001b[1m42s\u001b[0m 5ms/step - loss: 6.4393e-04 - root_mean_squared_error: 0.0253 - val_loss: 3.3606e-04 - val_root_mean_squared_error: 0.0183\n",
      "Epoch 18/25\n",
      "\u001b[1m9200/9200\u001b[0m \u001b[32m━━━━━━━━━━━━━━━━━━━━\u001b[0m\u001b[37m\u001b[0m \u001b[1m42s\u001b[0m 5ms/step - loss: 5.6733e-04 - root_mean_squared_error: 0.0238 - val_loss: 1.5492e-04 - val_root_mean_squared_error: 0.0124\n",
      "Epoch 19/25\n",
      "\u001b[1m9200/9200\u001b[0m \u001b[32m━━━━━━━━━━━━━━━━━━━━\u001b[0m\u001b[37m\u001b[0m \u001b[1m43s\u001b[0m 5ms/step - loss: 7.2488e-04 - root_mean_squared_error: 0.0265 - val_loss: 1.0135e-04 - val_root_mean_squared_error: 0.0101\n",
      "Epoch 20/25\n",
      "\u001b[1m9200/9200\u001b[0m \u001b[32m━━━━━━━━━━━━━━━━━━━━\u001b[0m\u001b[37m\u001b[0m \u001b[1m43s\u001b[0m 5ms/step - loss: 4.6472e-04 - root_mean_squared_error: 0.0213 - val_loss: 3.9289e-04 - val_root_mean_squared_error: 0.0198\n",
      "Epoch 21/25\n",
      "\u001b[1m9200/9200\u001b[0m \u001b[32m━━━━━━━━━━━━━━━━━━━━\u001b[0m\u001b[37m\u001b[0m \u001b[1m42s\u001b[0m 5ms/step - loss: 6.3507e-04 - root_mean_squared_error: 0.0249 - val_loss: 5.9810e-04 - val_root_mean_squared_error: 0.0245\n",
      "Epoch 22/25\n",
      "\u001b[1m9200/9200\u001b[0m \u001b[32m━━━━━━━━━━━━━━━━━━━━\u001b[0m\u001b[37m\u001b[0m \u001b[1m84s\u001b[0m 5ms/step - loss: 5.0429e-04 - root_mean_squared_error: 0.0223 - val_loss: 2.3334e-04 - val_root_mean_squared_error: 0.0153\n",
      "Epoch 23/25\n",
      "\u001b[1m9200/9200\u001b[0m \u001b[32m━━━━━━━━━━━━━━━━━━━━\u001b[0m\u001b[37m\u001b[0m \u001b[1m46s\u001b[0m 5ms/step - loss: 5.6446e-04 - root_mean_squared_error: 0.0237 - val_loss: 5.7525e-05 - val_root_mean_squared_error: 0.0076\n",
      "Epoch 24/25\n",
      "\u001b[1m9200/9200\u001b[0m \u001b[32m━━━━━━━━━━━━━━━━━━━━\u001b[0m\u001b[37m\u001b[0m \u001b[1m47s\u001b[0m 5ms/step - loss: 4.6820e-04 - root_mean_squared_error: 0.0216 - val_loss: 4.2207e-04 - val_root_mean_squared_error: 0.0205\n",
      "Epoch 25/25\n",
      "\u001b[1m9200/9200\u001b[0m \u001b[32m━━━━━━━━━━━━━━━━━━━━\u001b[0m\u001b[37m\u001b[0m \u001b[1m47s\u001b[0m 5ms/step - loss: 5.2810e-04 - root_mean_squared_error: 0.0229 - val_loss: 3.5387e-04 - val_root_mean_squared_error: 0.0188\n"
     ]
    },
    {
     "data": {
      "text/plain": [
       "<keras.src.callbacks.history.History at 0x1775f9c29f0>"
      ]
     },
     "execution_count": 55,
     "metadata": {},
     "output_type": "execute_result"
    }
   ],
   "source": [
    "model.fit(x = x_train,y = y_train, validation_data = (x_val,y_val),epochs = 25,verbose = 1,callbacks = check_points)"
   ]
  },
  {
   "cell_type": "code",
   "execution_count": 57,
   "id": "60ef0826-22d7-4822-9d87-9082da09da53",
   "metadata": {},
   "outputs": [],
   "source": [
    "model.save(\"model.keras\")"
   ]
  },
  {
   "cell_type": "code",
   "execution_count": 59,
   "id": "4849b693-4439-4bfc-b426-619ea880ed7d",
   "metadata": {},
   "outputs": [
    {
     "name": "stdout",
     "output_type": "stream",
     "text": [
      "\u001b[1m9200/9200\u001b[0m \u001b[32m━━━━━━━━━━━━━━━━━━━━\u001b[0m\u001b[37m\u001b[0m \u001b[1m22s\u001b[0m 2ms/step\n"
     ]
    },
    {
     "data": {
      "text/html": [
       "<div>\n",
       "<style scoped>\n",
       "    .dataframe tbody tr th:only-of-type {\n",
       "        vertical-align: middle;\n",
       "    }\n",
       "\n",
       "    .dataframe tbody tr th {\n",
       "        vertical-align: top;\n",
       "    }\n",
       "\n",
       "    .dataframe thead th {\n",
       "        text-align: right;\n",
       "    }\n",
       "</style>\n",
       "<table border=\"1\" class=\"dataframe\">\n",
       "  <thead>\n",
       "    <tr style=\"text-align: right;\">\n",
       "      <th></th>\n",
       "      <th>pedicted_values</th>\n",
       "      <th>actual_value</th>\n",
       "    </tr>\n",
       "  </thead>\n",
       "  <tbody>\n",
       "    <tr>\n",
       "      <th>0</th>\n",
       "      <td>-8.396479</td>\n",
       "      <td>-8.41</td>\n",
       "    </tr>\n",
       "    <tr>\n",
       "      <th>1</th>\n",
       "      <td>-8.497149</td>\n",
       "      <td>-8.51</td>\n",
       "    </tr>\n",
       "    <tr>\n",
       "      <th>2</th>\n",
       "      <td>-8.298621</td>\n",
       "      <td>-8.31</td>\n",
       "    </tr>\n",
       "    <tr>\n",
       "      <th>3</th>\n",
       "      <td>-8.253706</td>\n",
       "      <td>-8.27</td>\n",
       "    </tr>\n",
       "    <tr>\n",
       "      <th>4</th>\n",
       "      <td>-8.036310</td>\n",
       "      <td>-8.05</td>\n",
       "    </tr>\n",
       "    <tr>\n",
       "      <th>...</th>\n",
       "      <td>...</td>\n",
       "      <td>...</td>\n",
       "    </tr>\n",
       "    <tr>\n",
       "      <th>294377</th>\n",
       "      <td>14.772629</td>\n",
       "      <td>14.78</td>\n",
       "    </tr>\n",
       "    <tr>\n",
       "      <th>294378</th>\n",
       "      <td>14.909611</td>\n",
       "      <td>14.92</td>\n",
       "    </tr>\n",
       "    <tr>\n",
       "      <th>294379</th>\n",
       "      <td>14.560827</td>\n",
       "      <td>14.57</td>\n",
       "    </tr>\n",
       "    <tr>\n",
       "      <th>294380</th>\n",
       "      <td>14.519391</td>\n",
       "      <td>14.53</td>\n",
       "    </tr>\n",
       "    <tr>\n",
       "      <th>294381</th>\n",
       "      <td>14.370823</td>\n",
       "      <td>14.38</td>\n",
       "    </tr>\n",
       "  </tbody>\n",
       "</table>\n",
       "<p>294382 rows × 2 columns</p>\n",
       "</div>"
      ],
      "text/plain": [
       "        pedicted_values  actual_value\n",
       "0             -8.396479         -8.41\n",
       "1             -8.497149         -8.51\n",
       "2             -8.298621         -8.31\n",
       "3             -8.253706         -8.27\n",
       "4             -8.036310         -8.05\n",
       "...                 ...           ...\n",
       "294377        14.772629         14.78\n",
       "294378        14.909611         14.92\n",
       "294379        14.560827         14.57\n",
       "294380        14.519391         14.53\n",
       "294381        14.370823         14.38\n",
       "\n",
       "[294382 rows x 2 columns]"
      ]
     },
     "execution_count": 59,
     "metadata": {},
     "output_type": "execute_result"
    }
   ],
   "source": [
    "train_pred = model.predict(x_train).flatten()\n",
    "train_res = pd.DataFrame(data = {\"pedicted_values\" : train_pred,\"actual_value\" : y_train})\n",
    "train_res"
   ]
  },
  {
   "cell_type": "code",
   "execution_count": 68,
   "id": "901eabf5-a8f8-4cc9-963f-699d9d928652",
   "metadata": {},
   "outputs": [
    {
     "data": {
      "image/png": "[encoded data removed]",
      "text/plain": [
       "<Figure size 640x480 with 1 Axes>"
      ]
     },
     "metadata": {},
     "output_type": "display_data"
    }
   ],
   "source": [
    "sns.lineplot(data=train_res[\"pedicted_values\"])\n",
    "sns.lineplot(data = train_res[\"actual_value\"])\n",
    "plt.show()"
   ]
  },
  {
   "cell_type": "markdown",
   "id": "911225de-d0b0-4c4c-85e5-6f624881b98a",
   "metadata": {},
   "source": [
    "# 1-D CNN Model"
   ]
  },
  {
   "cell_type": "code",
   "execution_count": 12,
   "id": "b6efa74c-97f1-40c5-91ed-c337a17362a4",
   "metadata": {},
   "outputs": [
    {
     "data": {
      "text/plain": [
       "(294382, 5, 1)"
      ]
     },
     "execution_count": 12,
     "metadata": {},
     "output_type": "execute_result"
    }
   ],
   "source": [
    "x_train.shape"
   ]
  },
  {
   "cell_type": "code",
   "execution_count": 13,
   "id": "e16c5be5-76d0-41d5-bce6-2ba928ed67e1",
   "metadata": {},
   "outputs": [],
   "source": [
    "cnn_model = Sequential([\n",
    "    InputLayer(shape=(5,1)),\n",
    "    Conv1D(filters = 64,kernel_size=2,strides=1),\n",
    "    Flatten(),\n",
    "    Dense(64,activation=\"relu\"),\n",
    "    Dense(1,activation=\"linear\")    \n",
    "])"
   ]
  },
  {
   "cell_type": "code",
   "execution_count": 14,
   "id": "4b23bcc3-f7c0-474d-a7d0-c02300e77f48",
   "metadata": {},
   "outputs": [
    {
     "data": {
      "text/html": [
       "<pre style=\"white-space:pre;overflow-x:auto;line-height:normal;font-family:Menlo,'DejaVu Sans Mono',consolas,'Courier New',monospace\"><span style=\"font-weight: bold\">Model: \"sequential\"</span>\n",
       "</pre>\n"
      ],
      "text/plain": [
       "\u001b[1mModel: \"sequential\"\u001b[0m\n"
      ]
     },
     "metadata": {},
     "output_type": "display_data"
    },
    {
     "data": {
      "text/html": [
       "<pre style=\"white-space:pre;overflow-x:auto;line-height:normal;font-family:Menlo,'DejaVu Sans Mono',consolas,'Courier New',monospace\">┏━━━━━━━━━━━━━━━━━━━━━━━━━━━━━━━━━┳━━━━━━━━━━━━━━━━━━━━━━━━┳━━━━━━━━━━━━━━━┓\n",
       "┃<span style=\"font-weight: bold\"> Layer (type)                    </span>┃<span style=\"font-weight: bold\"> Output Shape           </span>┃<span style=\"font-weight: bold\">       Param # </span>┃\n",
       "┡━━━━━━━━━━━━━━━━━━━━━━━━━━━━━━━━━╇━━━━━━━━━━━━━━━━━━━━━━━━╇━━━━━━━━━━━━━━━┩\n",
       "│ conv1d (<span style=\"color: #0087ff; text-decoration-color: #0087ff\">Conv1D</span>)                 │ (<span style=\"color: #00d7ff; text-decoration-color: #00d7ff\">None</span>, <span style=\"color: #00af00; text-decoration-color: #00af00\">4</span>, <span style=\"color: #00af00; text-decoration-color: #00af00\">64</span>)          │           <span style=\"color: #00af00; text-decoration-color: #00af00\">192</span> │\n",
       "├─────────────────────────────────┼────────────────────────┼───────────────┤\n",
       "│ flatten (<span style=\"color: #0087ff; text-decoration-color: #0087ff\">Flatten</span>)               │ (<span style=\"color: #00d7ff; text-decoration-color: #00d7ff\">None</span>, <span style=\"color: #00af00; text-decoration-color: #00af00\">256</span>)            │             <span style=\"color: #00af00; text-decoration-color: #00af00\">0</span> │\n",
       "├─────────────────────────────────┼────────────────────────┼───────────────┤\n",
       "│ dense (<span style=\"color: #0087ff; text-decoration-color: #0087ff\">Dense</span>)                   │ (<span style=\"color: #00d7ff; text-decoration-color: #00d7ff\">None</span>, <span style=\"color: #00af00; text-decoration-color: #00af00\">64</span>)             │        <span style=\"color: #00af00; text-decoration-color: #00af00\">16,448</span> │\n",
       "├─────────────────────────────────┼────────────────────────┼───────────────┤\n",
       "│ dense_1 (<span style=\"color: #0087ff; text-decoration-color: #0087ff\">Dense</span>)                 │ (<span style=\"color: #00d7ff; text-decoration-color: #00d7ff\">None</span>, <span style=\"color: #00af00; text-decoration-color: #00af00\">1</span>)              │            <span style=\"color: #00af00; text-decoration-color: #00af00\">65</span> │\n",
       "└─────────────────────────────────┴────────────────────────┴───────────────┘\n",
       "</pre>\n"
      ],
      "text/plain": [
       "┏━━━━━━━━━━━━━━━━━━━━━━━━━━━━━━━━━┳━━━━━━━━━━━━━━━━━━━━━━━━┳━━━━━━━━━━━━━━━┓\n",
       "┃\u001b[1m \u001b[0m\u001b[1mLayer (type)                   \u001b[0m\u001b[1m \u001b[0m┃\u001b[1m \u001b[0m\u001b[1mOutput Shape          \u001b[0m\u001b[1m \u001b[0m┃\u001b[1m \u001b[0m\u001b[1m      Param #\u001b[0m\u001b[1m \u001b[0m┃\n",
       "┡━━━━━━━━━━━━━━━━━━━━━━━━━━━━━━━━━╇━━━━━━━━━━━━━━━━━━━━━━━━╇━━━━━━━━━━━━━━━┩\n",
       "│ conv1d (\u001b[38;5;33mConv1D\u001b[0m)                 │ (\u001b[38;5;45mNone\u001b[0m, \u001b[38;5;34m4\u001b[0m, \u001b[38;5;34m64\u001b[0m)          │           \u001b[38;5;34m192\u001b[0m │\n",
       "├─────────────────────────────────┼────────────────────────┼───────────────┤\n",
       "│ flatten (\u001b[38;5;33mFlatten\u001b[0m)               │ (\u001b[38;5;45mNone\u001b[0m, \u001b[38;5;34m256\u001b[0m)            │             \u001b[38;5;34m0\u001b[0m │\n",
       "├─────────────────────────────────┼────────────────────────┼───────────────┤\n",
       "│ dense (\u001b[38;5;33mDense\u001b[0m)                   │ (\u001b[38;5;45mNone\u001b[0m, \u001b[38;5;34m64\u001b[0m)             │        \u001b[38;5;34m16,448\u001b[0m │\n",
       "├─────────────────────────────────┼────────────────────────┼───────────────┤\n",
       "│ dense_1 (\u001b[38;5;33mDense\u001b[0m)                 │ (\u001b[38;5;45mNone\u001b[0m, \u001b[38;5;34m1\u001b[0m)              │            \u001b[38;5;34m65\u001b[0m │\n",
       "└─────────────────────────────────┴────────────────────────┴───────────────┘\n"
      ]
     },
     "metadata": {},
     "output_type": "display_data"
    },
    {
     "data": {
      "text/html": [
       "<pre style=\"white-space:pre;overflow-x:auto;line-height:normal;font-family:Menlo,'DejaVu Sans Mono',consolas,'Courier New',monospace\"><span style=\"font-weight: bold\"> Total params: </span><span style=\"color: #00af00; text-decoration-color: #00af00\">16,705</span> (65.25 KB)\n",
       "</pre>\n"
      ],
      "text/plain": [
       "\u001b[1m Total params: \u001b[0m\u001b[38;5;34m16,705\u001b[0m (65.25 KB)\n"
      ]
     },
     "metadata": {},
     "output_type": "display_data"
    },
    {
     "data": {
      "text/html": [
       "<pre style=\"white-space:pre;overflow-x:auto;line-height:normal;font-family:Menlo,'DejaVu Sans Mono',consolas,'Courier New',monospace\"><span style=\"font-weight: bold\"> Trainable params: </span><span style=\"color: #00af00; text-decoration-color: #00af00\">16,705</span> (65.25 KB)\n",
       "</pre>\n"
      ],
      "text/plain": [
       "\u001b[1m Trainable params: \u001b[0m\u001b[38;5;34m16,705\u001b[0m (65.25 KB)\n"
      ]
     },
     "metadata": {},
     "output_type": "display_data"
    },
    {
     "data": {
      "text/html": [
       "<pre style=\"white-space:pre;overflow-x:auto;line-height:normal;font-family:Menlo,'DejaVu Sans Mono',consolas,'Courier New',monospace\"><span style=\"font-weight: bold\"> Non-trainable params: </span><span style=\"color: #00af00; text-decoration-color: #00af00\">0</span> (0.00 B)\n",
       "</pre>\n"
      ],
      "text/plain": [
       "\u001b[1m Non-trainable params: \u001b[0m\u001b[38;5;34m0\u001b[0m (0.00 B)\n"
      ]
     },
     "metadata": {},
     "output_type": "display_data"
    }
   ],
   "source": [
    "cnn_model.summary()"
   ]
  },
  {
   "cell_type": "code",
   "execution_count": 15,
   "id": "db8b6d71-15d7-4e66-bbd3-937bf5f93eec",
   "metadata": {},
   "outputs": [
    {
     "name": "stdout",
     "output_type": "stream",
     "text": [
      "Epoch 1/25\n",
      "\u001b[1m9200/9200\u001b[0m \u001b[32m━━━━━━━━━━━━━━━━━━━━\u001b[0m\u001b[37m\u001b[0m \u001b[1m34s\u001b[0m 3ms/step - loss: 0.5918 - root_mean_squared_error: 0.5328 - val_loss: 0.0112 - val_root_mean_squared_error: 0.1058\n",
      "Epoch 2/25\n",
      "\u001b[1m9200/9200\u001b[0m \u001b[32m━━━━━━━━━━━━━━━━━━━━\u001b[0m\u001b[37m\u001b[0m \u001b[1m33s\u001b[0m 4ms/step - loss: 0.0037 - root_mean_squared_error: 0.0596 - val_loss: 1.6877e-04 - val_root_mean_squared_error: 0.0130\n",
      "Epoch 3/25\n",
      "\u001b[1m9200/9200\u001b[0m \u001b[32m━━━━━━━━━━━━━━━━━━━━\u001b[0m\u001b[37m\u001b[0m \u001b[1m18s\u001b[0m 2ms/step - loss: 0.0019 - root_mean_squared_error: 0.0429 - val_loss: 5.9889e-06 - val_root_mean_squared_error: 0.0024\n",
      "Epoch 4/25\n",
      "\u001b[1m9200/9200\u001b[0m \u001b[32m━━━━━━━━━━━━━━━━━━━━\u001b[0m\u001b[37m\u001b[0m \u001b[1m10s\u001b[0m 1ms/step - loss: 0.0012 - root_mean_squared_error: 0.0340 - val_loss: 4.4920e-05 - val_root_mean_squared_error: 0.0067\n",
      "Epoch 5/25\n",
      "\u001b[1m9200/9200\u001b[0m \u001b[32m━━━━━━━━━━━━━━━━━━━━\u001b[0m\u001b[37m\u001b[0m \u001b[1m10s\u001b[0m 1ms/step - loss: 8.9804e-04 - root_mean_squared_error: 0.0297 - val_loss: 1.6788e-04 - val_root_mean_squared_error: 0.0130\n",
      "Epoch 6/25\n",
      "\u001b[1m9200/9200\u001b[0m \u001b[32m━━━━━━━━━━━━━━━━━━━━\u001b[0m\u001b[37m\u001b[0m \u001b[1m11s\u001b[0m 1ms/step - loss: 7.3068e-04 - root_mean_squared_error: 0.0269 - val_loss: 1.1953e-06 - val_root_mean_squared_error: 0.0011\n",
      "Epoch 7/25\n",
      "\u001b[1m9200/9200\u001b[0m \u001b[32m━━━━━━━━━━━━━━━━━━━━\u001b[0m\u001b[37m\u001b[0m \u001b[1m11s\u001b[0m 1ms/step - loss: 8.5660e-04 - root_mean_squared_error: 0.0288 - val_loss: 4.8231e-07 - val_root_mean_squared_error: 6.9449e-04\n",
      "Epoch 8/25\n",
      "\u001b[1m9200/9200\u001b[0m \u001b[32m━━━━━━━━━━━━━━━━━━━━\u001b[0m\u001b[37m\u001b[0m \u001b[1m10s\u001b[0m 1ms/step - loss: 4.9130e-04 - root_mean_squared_error: 0.0209 - val_loss: 3.5828e-05 - val_root_mean_squared_error: 0.0060\n",
      "Epoch 9/25\n",
      "\u001b[1m9200/9200\u001b[0m \u001b[32m━━━━━━━━━━━━━━━━━━━━\u001b[0m\u001b[37m\u001b[0m \u001b[1m11s\u001b[0m 1ms/step - loss: 7.5344e-04 - root_mean_squared_error: 0.0273 - val_loss: 3.5464e-06 - val_root_mean_squared_error: 0.0019\n",
      "Epoch 10/25\n",
      "\u001b[1m9200/9200\u001b[0m \u001b[32m━━━━━━━━━━━━━━━━━━━━\u001b[0m\u001b[37m\u001b[0m \u001b[1m10s\u001b[0m 1ms/step - loss: 4.2655e-04 - root_mean_squared_error: 0.0202 - val_loss: 3.2873e-05 - val_root_mean_squared_error: 0.0057\n",
      "Epoch 11/25\n",
      "\u001b[1m9200/9200\u001b[0m \u001b[32m━━━━━━━━━━━━━━━━━━━━\u001b[0m\u001b[37m\u001b[0m \u001b[1m10s\u001b[0m 1ms/step - loss: 6.8565e-04 - root_mean_squared_error: 0.0257 - val_loss: 0.0042 - val_root_mean_squared_error: 0.0650\n",
      "Epoch 12/25\n",
      "\u001b[1m9200/9200\u001b[0m \u001b[32m━━━━━━━━━━━━━━━━━━━━\u001b[0m\u001b[37m\u001b[0m \u001b[1m10s\u001b[0m 1ms/step - loss: 7.3026e-04 - root_mean_squared_error: 0.0256 - val_loss: 3.5605e-06 - val_root_mean_squared_error: 0.0019\n",
      "Epoch 13/25\n",
      "\u001b[1m9200/9200\u001b[0m \u001b[32m━━━━━━━━━━━━━━━━━━━━\u001b[0m\u001b[37m\u001b[0m \u001b[1m10s\u001b[0m 1ms/step - loss: 5.2764e-04 - root_mean_squared_error: 0.0223 - val_loss: 0.0112 - val_root_mean_squared_error: 0.1056\n",
      "Epoch 14/25\n",
      "\u001b[1m9200/9200\u001b[0m \u001b[32m━━━━━━━━━━━━━━━━━━━━\u001b[0m\u001b[37m\u001b[0m \u001b[1m10s\u001b[0m 1ms/step - loss: 7.7151e-04 - root_mean_squared_error: 0.0250 - val_loss: 2.4045e-07 - val_root_mean_squared_error: 4.9036e-04\n",
      "Epoch 15/25\n",
      "\u001b[1m9200/9200\u001b[0m \u001b[32m━━━━━━━━━━━━━━━━━━━━\u001b[0m\u001b[37m\u001b[0m \u001b[1m10s\u001b[0m 1ms/step - loss: 3.3830e-04 - root_mean_squared_error: 0.0182 - val_loss: 3.1024e-06 - val_root_mean_squared_error: 0.0018\n",
      "Epoch 16/25\n",
      "\u001b[1m9200/9200\u001b[0m \u001b[32m━━━━━━━━━━━━━━━━━━━━\u001b[0m\u001b[37m\u001b[0m \u001b[1m10s\u001b[0m 1ms/step - loss: 3.0266e-04 - root_mean_squared_error: 0.0167 - val_loss: 0.0050 - val_root_mean_squared_error: 0.0708\n",
      "Epoch 17/25\n",
      "\u001b[1m9200/9200\u001b[0m \u001b[32m━━━━━━━━━━━━━━━━━━━━\u001b[0m\u001b[37m\u001b[0m \u001b[1m11s\u001b[0m 1ms/step - loss: 7.4669e-04 - root_mean_squared_error: 0.0249 - val_loss: 7.6469e-07 - val_root_mean_squared_error: 8.7446e-04\n",
      "Epoch 18/25\n",
      "\u001b[1m9200/9200\u001b[0m \u001b[32m━━━━━━━━━━━━━━━━━━━━\u001b[0m\u001b[37m\u001b[0m \u001b[1m10s\u001b[0m 1ms/step - loss: 6.1092e-04 - root_mean_squared_error: 0.0240 - val_loss: 7.7988e-07 - val_root_mean_squared_error: 8.8311e-04\n",
      "Epoch 19/25\n",
      "\u001b[1m9200/9200\u001b[0m \u001b[32m━━━━━━━━━━━━━━━━━━━━\u001b[0m\u001b[37m\u001b[0m \u001b[1m10s\u001b[0m 1ms/step - loss: 3.0980e-04 - root_mean_squared_error: 0.0174 - val_loss: 3.8247e-06 - val_root_mean_squared_error: 0.0020\n",
      "Epoch 20/25\n",
      "\u001b[1m9200/9200\u001b[0m \u001b[32m━━━━━━━━━━━━━━━━━━━━\u001b[0m\u001b[37m\u001b[0m \u001b[1m10s\u001b[0m 1ms/step - loss: 4.9389e-04 - root_mean_squared_error: 0.0217 - val_loss: 1.6056e-04 - val_root_mean_squared_error: 0.0127\n",
      "Epoch 21/25\n",
      "\u001b[1m9200/9200\u001b[0m \u001b[32m━━━━━━━━━━━━━━━━━━━━\u001b[0m\u001b[37m\u001b[0m \u001b[1m11s\u001b[0m 1ms/step - loss: 4.1876e-04 - root_mean_squared_error: 0.0201 - val_loss: 3.0662e-04 - val_root_mean_squared_error: 0.0175\n",
      "Epoch 22/25\n",
      "\u001b[1m9200/9200\u001b[0m \u001b[32m━━━━━━━━━━━━━━━━━━━━\u001b[0m\u001b[37m\u001b[0m \u001b[1m10s\u001b[0m 1ms/step - loss: 2.9332e-04 - root_mean_squared_error: 0.0171 - val_loss: 8.0899e-06 - val_root_mean_squared_error: 0.0028\n",
      "Epoch 23/25\n",
      "\u001b[1m9200/9200\u001b[0m \u001b[32m━━━━━━━━━━━━━━━━━━━━\u001b[0m\u001b[37m\u001b[0m \u001b[1m10s\u001b[0m 1ms/step - loss: 3.0315e-04 - root_mean_squared_error: 0.0172 - val_loss: 4.9771e-07 - val_root_mean_squared_error: 7.0549e-04\n",
      "Epoch 24/25\n",
      "\u001b[1m9200/9200\u001b[0m \u001b[32m━━━━━━━━━━━━━━━━━━━━\u001b[0m\u001b[37m\u001b[0m \u001b[1m10s\u001b[0m 1ms/step - loss: 2.5251e-04 - root_mean_squared_error: 0.0157 - val_loss: 1.1291e-04 - val_root_mean_squared_error: 0.0106\n",
      "Epoch 25/25\n",
      "\u001b[1m9200/9200\u001b[0m \u001b[32m━━━━━━━━━━━━━━━━━━━━\u001b[0m\u001b[37m\u001b[0m \u001b[1m10s\u001b[0m 1ms/step - loss: 3.8345e-04 - root_mean_squared_error: 0.0193 - val_loss: 1.0624e-07 - val_root_mean_squared_error: 3.2594e-04\n"
     ]
    },
    {
     "data": {
      "text/plain": [
       "<keras.src.callbacks.history.History at 0x1b11c8a7980>"
      ]
     },
     "execution_count": 15,
     "metadata": {},
     "output_type": "execute_result"
    }
   ],
   "source": [
    "check_points = ModelCheckpoint(\"cnn_model.keras\",monitor=\"val_loss\",save_best_only=True)\n",
    "cnn_model.compile(optimizer = Adam(learning_rate=0.001),loss=MeanSquaredError(),metrics = [RootMeanSquaredError()])\n",
    "cnn_model.fit(x = x_train,y = y_train,epochs = 25,validation_data = (x_val,y_val))"
   ]
  },
  {
   "cell_type": "code",
   "execution_count": 18,
   "id": "f6444efe-79a4-4387-b7be-c09eac4d71d7",
   "metadata": {},
   "outputs": [
    {
     "name": "stdout",
     "output_type": "stream",
     "text": [
      "\u001b[1m9200/9200\u001b[0m \u001b[32m━━━━━━━━━━━━━━━━━━━━\u001b[0m\u001b[37m\u001b[0m \u001b[1m4s\u001b[0m 466us/step\n"
     ]
    },
    {
     "data": {
      "text/plain": [
       "[<matplotlib.lines.Line2D at 0x1b12bb7b5f0>]"
      ]
     },
     "execution_count": 18,
     "metadata": {},
     "output_type": "execute_result"
    },
    {
     "data": {
      "image/png": "[encoded data removed]",
      "text/plain": [
       "<Figure size 640x480 with 1 Axes>"
      ]
     },
     "metadata": {},
     "output_type": "display_data"
    }
   ],
   "source": [
    "cnn_model_train_pred = cnn_model.predict(x_train).flatten()\n",
    "cnn_model_pred = pd.DataFrame({\"Predicted\" : cnn_model_train_pred,\"Actual\" : y_train})\n",
    "\n",
    "plt.plot(cnn_model_pred[\"Predicted\"])\n",
    "plt.plot(cnn_model_pred[\"Actual\"])\n"
   ]
  },
  {
   "cell_type": "code",
   "execution_count": 19,
   "id": "5b0e3c09-c04d-473d-8594-89fb9b2ae85f",
   "metadata": {},
   "outputs": [],
   "source": [
    "cnn_model.save(\"cnn_model.keras\")"
   ]
  },
  {
   "cell_type": "markdown",
   "id": "565c463b-25f8-459e-af9a-d01f62ab80d3",
   "metadata": {},
   "source": [
    "# GRU Model (Gated Recuurent Units):"
   ]
  },
  {
   "cell_type": "code",
   "execution_count": 21,
   "id": "9946d47d-6682-44f3-8778-b37f67b6153e",
   "metadata": {},
   "outputs": [
    {
     "data": {
      "text/html": [
       "<pre style=\"white-space:pre;overflow-x:auto;line-height:normal;font-family:Menlo,'DejaVu Sans Mono',consolas,'Courier New',monospace\"><span style=\"font-weight: bold\">Model: \"sequential_2\"</span>\n",
       "</pre>\n"
      ],
      "text/plain": [
       "\u001b[1mModel: \"sequential_2\"\u001b[0m\n"
      ]
     },
     "metadata": {},
     "output_type": "display_data"
    },
    {
     "data": {
      "text/html": [
       "<pre style=\"white-space:pre;overflow-x:auto;line-height:normal;font-family:Menlo,'DejaVu Sans Mono',consolas,'Courier New',monospace\">┏━━━━━━━━━━━━━━━━━━━━━━━━━━━━━━━━━┳━━━━━━━━━━━━━━━━━━━━━━━━┳━━━━━━━━━━━━━━━┓\n",
       "┃<span style=\"font-weight: bold\"> Layer (type)                    </span>┃<span style=\"font-weight: bold\"> Output Shape           </span>┃<span style=\"font-weight: bold\">       Param # </span>┃\n",
       "┡━━━━━━━━━━━━━━━━━━━━━━━━━━━━━━━━━╇━━━━━━━━━━━━━━━━━━━━━━━━╇━━━━━━━━━━━━━━━┩\n",
       "│ gru_1 (<span style=\"color: #0087ff; text-decoration-color: #0087ff\">GRU</span>)                     │ (<span style=\"color: #00d7ff; text-decoration-color: #00d7ff\">None</span>, <span style=\"color: #00af00; text-decoration-color: #00af00\">64</span>)             │        <span style=\"color: #00af00; text-decoration-color: #00af00\">12,864</span> │\n",
       "├─────────────────────────────────┼────────────────────────┼───────────────┤\n",
       "│ dense_4 (<span style=\"color: #0087ff; text-decoration-color: #0087ff\">Dense</span>)                 │ (<span style=\"color: #00d7ff; text-decoration-color: #00d7ff\">None</span>, <span style=\"color: #00af00; text-decoration-color: #00af00\">64</span>)             │         <span style=\"color: #00af00; text-decoration-color: #00af00\">4,160</span> │\n",
       "├─────────────────────────────────┼────────────────────────┼───────────────┤\n",
       "│ dense_5 (<span style=\"color: #0087ff; text-decoration-color: #0087ff\">Dense</span>)                 │ (<span style=\"color: #00d7ff; text-decoration-color: #00d7ff\">None</span>, <span style=\"color: #00af00; text-decoration-color: #00af00\">1</span>)              │            <span style=\"color: #00af00; text-decoration-color: #00af00\">65</span> │\n",
       "└─────────────────────────────────┴────────────────────────┴───────────────┘\n",
       "</pre>\n"
      ],
      "text/plain": [
       "┏━━━━━━━━━━━━━━━━━━━━━━━━━━━━━━━━━┳━━━━━━━━━━━━━━━━━━━━━━━━┳━━━━━━━━━━━━━━━┓\n",
       "┃\u001b[1m \u001b[0m\u001b[1mLayer (type)                   \u001b[0m\u001b[1m \u001b[0m┃\u001b[1m \u001b[0m\u001b[1mOutput Shape          \u001b[0m\u001b[1m \u001b[0m┃\u001b[1m \u001b[0m\u001b[1m      Param #\u001b[0m\u001b[1m \u001b[0m┃\n",
       "┡━━━━━━━━━━━━━━━━━━━━━━━━━━━━━━━━━╇━━━━━━━━━━━━━━━━━━━━━━━━╇━━━━━━━━━━━━━━━┩\n",
       "│ gru_1 (\u001b[38;5;33mGRU\u001b[0m)                     │ (\u001b[38;5;45mNone\u001b[0m, \u001b[38;5;34m64\u001b[0m)             │        \u001b[38;5;34m12,864\u001b[0m │\n",
       "├─────────────────────────────────┼────────────────────────┼───────────────┤\n",
       "│ dense_4 (\u001b[38;5;33mDense\u001b[0m)                 │ (\u001b[38;5;45mNone\u001b[0m, \u001b[38;5;34m64\u001b[0m)             │         \u001b[38;5;34m4,160\u001b[0m │\n",
       "├─────────────────────────────────┼────────────────────────┼───────────────┤\n",
       "│ dense_5 (\u001b[38;5;33mDense\u001b[0m)                 │ (\u001b[38;5;45mNone\u001b[0m, \u001b[38;5;34m1\u001b[0m)              │            \u001b[38;5;34m65\u001b[0m │\n",
       "└─────────────────────────────────┴────────────────────────┴───────────────┘\n"
      ]
     },
     "metadata": {},
     "output_type": "display_data"
    },
    {
     "data": {
      "text/html": [
       "<pre style=\"white-space:pre;overflow-x:auto;line-height:normal;font-family:Menlo,'DejaVu Sans Mono',consolas,'Courier New',monospace\"><span style=\"font-weight: bold\"> Total params: </span><span style=\"color: #00af00; text-decoration-color: #00af00\">17,089</span> (66.75 KB)\n",
       "</pre>\n"
      ],
      "text/plain": [
       "\u001b[1m Total params: \u001b[0m\u001b[38;5;34m17,089\u001b[0m (66.75 KB)\n"
      ]
     },
     "metadata": {},
     "output_type": "display_data"
    },
    {
     "data": {
      "text/html": [
       "<pre style=\"white-space:pre;overflow-x:auto;line-height:normal;font-family:Menlo,'DejaVu Sans Mono',consolas,'Courier New',monospace\"><span style=\"font-weight: bold\"> Trainable params: </span><span style=\"color: #00af00; text-decoration-color: #00af00\">17,089</span> (66.75 KB)\n",
       "</pre>\n"
      ],
      "text/plain": [
       "\u001b[1m Trainable params: \u001b[0m\u001b[38;5;34m17,089\u001b[0m (66.75 KB)\n"
      ]
     },
     "metadata": {},
     "output_type": "display_data"
    },
    {
     "data": {
      "text/html": [
       "<pre style=\"white-space:pre;overflow-x:auto;line-height:normal;font-family:Menlo,'DejaVu Sans Mono',consolas,'Courier New',monospace\"><span style=\"font-weight: bold\"> Non-trainable params: </span><span style=\"color: #00af00; text-decoration-color: #00af00\">0</span> (0.00 B)\n",
       "</pre>\n"
      ],
      "text/plain": [
       "\u001b[1m Non-trainable params: \u001b[0m\u001b[38;5;34m0\u001b[0m (0.00 B)\n"
      ]
     },
     "metadata": {},
     "output_type": "display_data"
    }
   ],
   "source": [
    "gru_model = Sequential([\n",
    "    InputLayer(shape=(5,1)),\n",
    "    GRU(units=64),\n",
    "    Dense(units=64,activation=\"relu\"),\n",
    "    Dense(units=1,activation=\"linear\")\n",
    "])\n",
    "gru_model.summary()"
   ]
  },
  {
   "cell_type": "code",
   "execution_count": 31,
   "id": "940c424b-9e1d-4776-8f73-9ff3b572a43f",
   "metadata": {},
   "outputs": [
    {
     "name": "stdout",
     "output_type": "stream",
     "text": [
      "Epoch 1/10\n",
      "\u001b[1m9200/9200\u001b[0m \u001b[32m━━━━━━━━━━━━━━━━━━━━\u001b[0m\u001b[37m\u001b[0m \u001b[1m40s\u001b[0m 4ms/step - loss: 0.0168 - root_mean_squared_error: 0.1253 - val_loss: 0.0230 - val_root_mean_squared_error: 0.1517\n",
      "Epoch 2/10\n",
      "\u001b[1m9200/9200\u001b[0m \u001b[32m━━━━━━━━━━━━━━━━━━━━\u001b[0m\u001b[37m\u001b[0m \u001b[1m35s\u001b[0m 4ms/step - loss: 0.0061 - root_mean_squared_error: 0.0780 - val_loss: 0.0014 - val_root_mean_squared_error: 0.0372\n",
      "Epoch 3/10\n",
      "\u001b[1m9200/9200\u001b[0m \u001b[32m━━━━━━━━━━━━━━━━━━━━\u001b[0m\u001b[37m\u001b[0m \u001b[1m36s\u001b[0m 4ms/step - loss: 0.0038 - root_mean_squared_error: 0.0613 - val_loss: 4.0850e-04 - val_root_mean_squared_error: 0.0202\n",
      "Epoch 4/10\n",
      "\u001b[1m9200/9200\u001b[0m \u001b[32m━━━━━━━━━━━━━━━━━━━━\u001b[0m\u001b[37m\u001b[0m \u001b[1m40s\u001b[0m 4ms/step - loss: 0.0024 - root_mean_squared_error: 0.0491 - val_loss: 8.3681e-04 - val_root_mean_squared_error: 0.0289\n",
      "Epoch 5/10\n",
      "\u001b[1m9200/9200\u001b[0m \u001b[32m━━━━━━━━━━━━━━━━━━━━\u001b[0m\u001b[37m\u001b[0m \u001b[1m37s\u001b[0m 4ms/step - loss: 0.0019 - root_mean_squared_error: 0.0431 - val_loss: 0.0018 - val_root_mean_squared_error: 0.0427\n",
      "Epoch 6/10\n",
      "\u001b[1m9200/9200\u001b[0m \u001b[32m━━━━━━━━━━━━━━━━━━━━\u001b[0m\u001b[37m\u001b[0m \u001b[1m34s\u001b[0m 4ms/step - loss: 0.0016 - root_mean_squared_error: 0.0400 - val_loss: 0.0020 - val_root_mean_squared_error: 0.0453\n",
      "Epoch 7/10\n",
      "\u001b[1m9200/9200\u001b[0m \u001b[32m━━━━━━━━━━━━━━━━━━━━\u001b[0m\u001b[37m\u001b[0m \u001b[1m45s\u001b[0m 4ms/step - loss: 0.0018 - root_mean_squared_error: 0.0425 - val_loss: 2.7018e-04 - val_root_mean_squared_error: 0.0164\n",
      "Epoch 8/10\n",
      "\u001b[1m9200/9200\u001b[0m \u001b[32m━━━━━━━━━━━━━━━━━━━━\u001b[0m\u001b[37m\u001b[0m \u001b[1m32s\u001b[0m 3ms/step - loss: 0.0011 - root_mean_squared_error: 0.0332 - val_loss: 1.6092e-04 - val_root_mean_squared_error: 0.0127\n",
      "Epoch 9/10\n",
      "\u001b[1m9200/9200\u001b[0m \u001b[32m━━━━━━━━━━━━━━━━━━━━\u001b[0m\u001b[37m\u001b[0m \u001b[1m36s\u001b[0m 4ms/step - loss: 0.0010 - root_mean_squared_error: 0.0315 - val_loss: 1.3015e-04 - val_root_mean_squared_error: 0.0114\n",
      "Epoch 10/10\n",
      "\u001b[1m9200/9200\u001b[0m \u001b[32m━━━━━━━━━━━━━━━━━━━━\u001b[0m\u001b[37m\u001b[0m \u001b[1m53s\u001b[0m 5ms/step - loss: 9.2957e-04 - root_mean_squared_error: 0.0295 - val_loss: 1.4687e-04 - val_root_mean_squared_error: 0.0121\n"
     ]
    },
    {
     "data": {
      "text/plain": [
       "<keras.src.callbacks.history.History at 0x1b12bb2e420>"
      ]
     },
     "execution_count": 31,
     "metadata": {},
     "output_type": "execute_result"
    }
   ],
   "source": [
    "check_points3 = ModelCheckpoint(\"cnn_model.keras\",monitor=\"val_loss\",save_best_only=True)\n",
    "gru_model.compile(optimizer = Adam(learning_rate=0.001),loss=MeanSquaredError(),metrics = [RootMeanSquaredError()])\n",
    "gru_model.fit(x = x_train,y = y_train,epochs = 10,validation_data = (x_val,y_val),callbacks = check_points3)"
   ]
  },
  {
   "cell_type": "code",
   "execution_count": 32,
   "id": "e9f435bd-b9fe-4e84-b7db-17d856554a6d",
   "metadata": {},
   "outputs": [
    {
     "name": "stdout",
     "output_type": "stream",
     "text": [
      "\u001b[1m9200/9200\u001b[0m \u001b[32m━━━━━━━━━━━━━━━━━━━━\u001b[0m\u001b[37m\u001b[0m \u001b[1m18s\u001b[0m 2ms/step\n"
     ]
    },
    {
     "data": {
      "text/plain": [
       "[<matplotlib.lines.Line2D at 0x1b142b74920>]"
      ]
     },
     "execution_count": 32,
     "metadata": {},
     "output_type": "execute_result"
    },
    {
     "data": {
      "image/png": "[encoded data removed]",
      "text/plain": [
       "<Figure size 640x480 with 1 Axes>"
      ]
     },
     "metadata": {},
     "output_type": "display_data"
    }
   ],
   "source": [
    "gru_model_train_pred = gru_model.predict(x_train).flatten()\n",
    "gru_model_pred = pd.DataFrame({\"Predicted\" : gru_model_train_pred,\"Actual\" : y_train})\n",
    "\n",
    "plt.plot(gru_model_pred[\"Predicted\"])\n",
    "plt.plot(gru_model_pred[\"Actual\"])"
   ]
  },
  {
   "cell_type": "code",
   "execution_count": 28,
   "id": "a028b2ca-9c11-49e7-9234-1f0f5e58231e",
   "metadata": {},
   "outputs": [
    {
     "data": {
      "text/plain": [
       "35.86"
      ]
     },
     "execution_count": 28,
     "metadata": {},
     "output_type": "execute_result"
    }
   ],
   "source": [
    "y_train.max()"
   ]
  },
  {
   "cell_type": "code",
   "execution_count": 33,
   "id": "3e0acaa7-98d3-4767-ac58-62c7fda10a68",
   "metadata": {},
   "outputs": [
    {
     "data": {
      "text/html": [
       "<div>\n",
       "<style scoped>\n",
       "    .dataframe tbody tr th:only-of-type {\n",
       "        vertical-align: middle;\n",
       "    }\n",
       "\n",
       "    .dataframe tbody tr th {\n",
       "        vertical-align: top;\n",
       "    }\n",
       "\n",
       "    .dataframe thead th {\n",
       "        text-align: right;\n",
       "    }\n",
       "</style>\n",
       "<table border=\"1\" class=\"dataframe\">\n",
       "  <thead>\n",
       "    <tr style=\"text-align: right;\">\n",
       "      <th></th>\n",
       "      <th>Predicted</th>\n",
       "      <th>Actual</th>\n",
       "    </tr>\n",
       "  </thead>\n",
       "  <tbody>\n",
       "    <tr>\n",
       "      <th>0</th>\n",
       "      <td>-8.414911</td>\n",
       "      <td>-8.41</td>\n",
       "    </tr>\n",
       "    <tr>\n",
       "      <th>1</th>\n",
       "      <td>-8.507156</td>\n",
       "      <td>-8.51</td>\n",
       "    </tr>\n",
       "    <tr>\n",
       "      <th>2</th>\n",
       "      <td>-8.322434</td>\n",
       "      <td>-8.31</td>\n",
       "    </tr>\n",
       "    <tr>\n",
       "      <th>3</th>\n",
       "      <td>-8.277115</td>\n",
       "      <td>-8.27</td>\n",
       "    </tr>\n",
       "    <tr>\n",
       "      <th>4</th>\n",
       "      <td>-8.045193</td>\n",
       "      <td>-8.05</td>\n",
       "    </tr>\n",
       "    <tr>\n",
       "      <th>...</th>\n",
       "      <td>...</td>\n",
       "      <td>...</td>\n",
       "    </tr>\n",
       "    <tr>\n",
       "      <th>294377</th>\n",
       "      <td>14.772901</td>\n",
       "      <td>14.78</td>\n",
       "    </tr>\n",
       "    <tr>\n",
       "      <th>294378</th>\n",
       "      <td>14.907852</td>\n",
       "      <td>14.92</td>\n",
       "    </tr>\n",
       "    <tr>\n",
       "      <th>294379</th>\n",
       "      <td>14.567780</td>\n",
       "      <td>14.57</td>\n",
       "    </tr>\n",
       "    <tr>\n",
       "      <th>294380</th>\n",
       "      <td>14.522044</td>\n",
       "      <td>14.53</td>\n",
       "    </tr>\n",
       "    <tr>\n",
       "      <th>294381</th>\n",
       "      <td>14.375582</td>\n",
       "      <td>14.38</td>\n",
       "    </tr>\n",
       "  </tbody>\n",
       "</table>\n",
       "<p>294382 rows × 2 columns</p>\n",
       "</div>"
      ],
      "text/plain": [
       "        Predicted  Actual\n",
       "0       -8.414911   -8.41\n",
       "1       -8.507156   -8.51\n",
       "2       -8.322434   -8.31\n",
       "3       -8.277115   -8.27\n",
       "4       -8.045193   -8.05\n",
       "...           ...     ...\n",
       "294377  14.772901   14.78\n",
       "294378  14.907852   14.92\n",
       "294379  14.567780   14.57\n",
       "294380  14.522044   14.53\n",
       "294381  14.375582   14.38\n",
       "\n",
       "[294382 rows x 2 columns]"
      ]
     },
     "execution_count": 33,
     "metadata": {},
     "output_type": "execute_result"
    }
   ],
   "source": [
    "gru_model_pred"
   ]
  },
  {
   "cell_type": "code",
   "execution_count": 82,
   "id": "5ddd1498-71c3-4243-889a-ebc1016f82a0",
   "metadata": {},
   "outputs": [
    {
     "data": {
      "text/html": [
       "<div>\n",
       "<style scoped>\n",
       "    .dataframe tbody tr th:only-of-type {\n",
       "        vertical-align: middle;\n",
       "    }\n",
       "\n",
       "    .dataframe tbody tr th {\n",
       "        vertical-align: top;\n",
       "    }\n",
       "\n",
       "    .dataframe thead th {\n",
       "        text-align: right;\n",
       "    }\n",
       "</style>\n",
       "<table border=\"1\" class=\"dataframe\">\n",
       "  <thead>\n",
       "    <tr style=\"text-align: right;\">\n",
       "      <th></th>\n",
       "      <th>Temperature</th>\n",
       "      <th>seconds</th>\n",
       "    </tr>\n",
       "    <tr>\n",
       "      <th>Date Time</th>\n",
       "      <th></th>\n",
       "      <th></th>\n",
       "    </tr>\n",
       "  </thead>\n",
       "  <tbody>\n",
       "    <tr>\n",
       "      <th>2009-01-01 00:10:00</th>\n",
       "      <td>-8.02</td>\n",
       "      <td>1.230769e+09</td>\n",
       "    </tr>\n",
       "    <tr>\n",
       "      <th>2009-01-01 00:20:00</th>\n",
       "      <td>-8.41</td>\n",
       "      <td>1.230769e+09</td>\n",
       "    </tr>\n",
       "    <tr>\n",
       "      <th>2009-01-01 00:30:00</th>\n",
       "      <td>-8.51</td>\n",
       "      <td>1.230770e+09</td>\n",
       "    </tr>\n",
       "    <tr>\n",
       "      <th>2009-01-01 00:40:00</th>\n",
       "      <td>-8.31</td>\n",
       "      <td>1.230770e+09</td>\n",
       "    </tr>\n",
       "    <tr>\n",
       "      <th>2009-01-01 00:50:00</th>\n",
       "      <td>-8.27</td>\n",
       "      <td>1.230771e+09</td>\n",
       "    </tr>\n",
       "  </tbody>\n",
       "</table>\n",
       "</div>"
      ],
      "text/plain": [
       "                     Temperature       seconds\n",
       "Date Time                                     \n",
       "2009-01-01 00:10:00        -8.02  1.230769e+09\n",
       "2009-01-01 00:20:00        -8.41  1.230769e+09\n",
       "2009-01-01 00:30:00        -8.51  1.230770e+09\n",
       "2009-01-01 00:40:00        -8.31  1.230770e+09\n",
       "2009-01-01 00:50:00        -8.27  1.230771e+09"
      ]
     },
     "execution_count": 82,
     "metadata": {},
     "output_type": "execute_result"
    }
   ],
   "source": [
    "temp_df = pd.DataFrame({\"Temperature\" : temp_data})\n",
    "temp_df[\"seconds\"] = temp_df.index.map(pd.Timestamp.timestamp)\n",
    "temp_df.head()"
   ]
  },
  {
   "cell_type": "code",
   "execution_count": 83,
   "id": "d58d1c0c-de71-4bdc-8780-19b2f740da17",
   "metadata": {},
   "outputs": [],
   "source": [
    "day = 24*60*60\n",
    "year = (365.2425)*day\n",
    "temp_df['Day sin'] = np.sin(temp_df[\"seconds\"] * (2 * np.pi / day))\n",
    "temp_df['Day cos'] = np.cos(temp_df[\"seconds\"] * (2 * np.pi / day))\n",
    "temp_df['Year sin'] = np.sin(temp_df[\"seconds\"] * (2 * np.pi / year))\n",
    "temp_df['Year cos'] = np.cos(temp_df[\"seconds\"] * (2 * np.pi / year))"
   ]
  },
  {
   "cell_type": "code",
   "execution_count": 84,
   "id": "a6d6e631-3726-49e0-a12e-52c8d88fcfe8",
   "metadata": {},
   "outputs": [
    {
     "data": {
      "text/html": [
       "<div>\n",
       "<style scoped>\n",
       "    .dataframe tbody tr th:only-of-type {\n",
       "        vertical-align: middle;\n",
       "    }\n",
       "\n",
       "    .dataframe tbody tr th {\n",
       "        vertical-align: top;\n",
       "    }\n",
       "\n",
       "    .dataframe thead th {\n",
       "        text-align: right;\n",
       "    }\n",
       "</style>\n",
       "<table border=\"1\" class=\"dataframe\">\n",
       "  <thead>\n",
       "    <tr style=\"text-align: right;\">\n",
       "      <th></th>\n",
       "      <th>Temperature</th>\n",
       "      <th>seconds</th>\n",
       "      <th>Day sin</th>\n",
       "      <th>Day cos</th>\n",
       "      <th>Year sin</th>\n",
       "      <th>Year cos</th>\n",
       "    </tr>\n",
       "    <tr>\n",
       "      <th>Date Time</th>\n",
       "      <th></th>\n",
       "      <th></th>\n",
       "      <th></th>\n",
       "      <th></th>\n",
       "      <th></th>\n",
       "      <th></th>\n",
       "    </tr>\n",
       "  </thead>\n",
       "  <tbody>\n",
       "    <tr>\n",
       "      <th>2009-01-01 00:10:00</th>\n",
       "      <td>-8.02</td>\n",
       "      <td>1.230769e+09</td>\n",
       "      <td>0.043619</td>\n",
       "      <td>0.999048</td>\n",
       "      <td>0.009452</td>\n",
       "      <td>0.999955</td>\n",
       "    </tr>\n",
       "    <tr>\n",
       "      <th>2009-01-01 00:20:00</th>\n",
       "      <td>-8.41</td>\n",
       "      <td>1.230769e+09</td>\n",
       "      <td>0.087156</td>\n",
       "      <td>0.996195</td>\n",
       "      <td>0.009571</td>\n",
       "      <td>0.999954</td>\n",
       "    </tr>\n",
       "    <tr>\n",
       "      <th>2009-01-01 00:30:00</th>\n",
       "      <td>-8.51</td>\n",
       "      <td>1.230770e+09</td>\n",
       "      <td>0.130526</td>\n",
       "      <td>0.991445</td>\n",
       "      <td>0.009691</td>\n",
       "      <td>0.999953</td>\n",
       "    </tr>\n",
       "    <tr>\n",
       "      <th>2009-01-01 00:40:00</th>\n",
       "      <td>-8.31</td>\n",
       "      <td>1.230770e+09</td>\n",
       "      <td>0.173648</td>\n",
       "      <td>0.984808</td>\n",
       "      <td>0.009810</td>\n",
       "      <td>0.999952</td>\n",
       "    </tr>\n",
       "    <tr>\n",
       "      <th>2009-01-01 00:50:00</th>\n",
       "      <td>-8.27</td>\n",
       "      <td>1.230771e+09</td>\n",
       "      <td>0.216440</td>\n",
       "      <td>0.976296</td>\n",
       "      <td>0.009930</td>\n",
       "      <td>0.999951</td>\n",
       "    </tr>\n",
       "  </tbody>\n",
       "</table>\n",
       "</div>"
      ],
      "text/plain": [
       "                     Temperature       seconds   Day sin   Day cos  Year sin  \\\n",
       "Date Time                                                                      \n",
       "2009-01-01 00:10:00        -8.02  1.230769e+09  0.043619  0.999048  0.009452   \n",
       "2009-01-01 00:20:00        -8.41  1.230769e+09  0.087156  0.996195  0.009571   \n",
       "2009-01-01 00:30:00        -8.51  1.230770e+09  0.130526  0.991445  0.009691   \n",
       "2009-01-01 00:40:00        -8.31  1.230770e+09  0.173648  0.984808  0.009810   \n",
       "2009-01-01 00:50:00        -8.27  1.230771e+09  0.216440  0.976296  0.009930   \n",
       "\n",
       "                     Year cos  \n",
       "Date Time                      \n",
       "2009-01-01 00:10:00  0.999955  \n",
       "2009-01-01 00:20:00  0.999954  \n",
       "2009-01-01 00:30:00  0.999953  \n",
       "2009-01-01 00:40:00  0.999952  \n",
       "2009-01-01 00:50:00  0.999951  "
      ]
     },
     "execution_count": 84,
     "metadata": {},
     "output_type": "execute_result"
    }
   ],
   "source": [
    "temp_df.head()"
   ]
  },
  {
   "cell_type": "code",
   "execution_count": 85,
   "id": "60a36688-55ef-4dfe-af0c-454b97728f7f",
   "metadata": {
    "scrolled": true
   },
   "outputs": [
    {
     "data": {
      "text/html": [
       "<div>\n",
       "<style scoped>\n",
       "    .dataframe tbody tr th:only-of-type {\n",
       "        vertical-align: middle;\n",
       "    }\n",
       "\n",
       "    .dataframe tbody tr th {\n",
       "        vertical-align: top;\n",
       "    }\n",
       "\n",
       "    .dataframe thead th {\n",
       "        text-align: right;\n",
       "    }\n",
       "</style>\n",
       "<table border=\"1\" class=\"dataframe\">\n",
       "  <thead>\n",
       "    <tr style=\"text-align: right;\">\n",
       "      <th></th>\n",
       "      <th>Temperature</th>\n",
       "      <th>Day sin</th>\n",
       "      <th>Day cos</th>\n",
       "      <th>Year sin</th>\n",
       "      <th>Year cos</th>\n",
       "    </tr>\n",
       "    <tr>\n",
       "      <th>Date Time</th>\n",
       "      <th></th>\n",
       "      <th></th>\n",
       "      <th></th>\n",
       "      <th></th>\n",
       "      <th></th>\n",
       "    </tr>\n",
       "  </thead>\n",
       "  <tbody>\n",
       "    <tr>\n",
       "      <th>2009-01-01 00:10:00</th>\n",
       "      <td>-8.02</td>\n",
       "      <td>0.043619</td>\n",
       "      <td>0.999048</td>\n",
       "      <td>0.009452</td>\n",
       "      <td>0.999955</td>\n",
       "    </tr>\n",
       "    <tr>\n",
       "      <th>2009-01-01 00:20:00</th>\n",
       "      <td>-8.41</td>\n",
       "      <td>0.087156</td>\n",
       "      <td>0.996195</td>\n",
       "      <td>0.009571</td>\n",
       "      <td>0.999954</td>\n",
       "    </tr>\n",
       "    <tr>\n",
       "      <th>2009-01-01 00:30:00</th>\n",
       "      <td>-8.51</td>\n",
       "      <td>0.130526</td>\n",
       "      <td>0.991445</td>\n",
       "      <td>0.009691</td>\n",
       "      <td>0.999953</td>\n",
       "    </tr>\n",
       "    <tr>\n",
       "      <th>2009-01-01 00:40:00</th>\n",
       "      <td>-8.31</td>\n",
       "      <td>0.173648</td>\n",
       "      <td>0.984808</td>\n",
       "      <td>0.009810</td>\n",
       "      <td>0.999952</td>\n",
       "    </tr>\n",
       "    <tr>\n",
       "      <th>2009-01-01 00:50:00</th>\n",
       "      <td>-8.27</td>\n",
       "      <td>0.216440</td>\n",
       "      <td>0.976296</td>\n",
       "      <td>0.009930</td>\n",
       "      <td>0.999951</td>\n",
       "    </tr>\n",
       "  </tbody>\n",
       "</table>\n",
       "</div>"
      ],
      "text/plain": [
       "                     Temperature   Day sin   Day cos  Year sin  Year cos\n",
       "Date Time                                                               \n",
       "2009-01-01 00:10:00        -8.02  0.043619  0.999048  0.009452  0.999955\n",
       "2009-01-01 00:20:00        -8.41  0.087156  0.996195  0.009571  0.999954\n",
       "2009-01-01 00:30:00        -8.51  0.130526  0.991445  0.009691  0.999953\n",
       "2009-01-01 00:40:00        -8.31  0.173648  0.984808  0.009810  0.999952\n",
       "2009-01-01 00:50:00        -8.27  0.216440  0.976296  0.009930  0.999951"
      ]
     },
     "execution_count": 85,
     "metadata": {},
     "output_type": "execute_result"
    }
   ],
   "source": [
    "temp_df.drop(\"seconds\",axis = 1, inplace=True)\n",
    "temp_df.head()"
   ]
  },
  {
   "cell_type": "code",
   "execution_count": 86,
   "id": "c12f758d-8c17-467b-9ec8-877015777b44",
   "metadata": {},
   "outputs": [
    {
     "data": {
      "text/html": [
       "<div>\n",
       "<style scoped>\n",
       "    .dataframe tbody tr th:only-of-type {\n",
       "        vertical-align: middle;\n",
       "    }\n",
       "\n",
       "    .dataframe tbody tr th {\n",
       "        vertical-align: top;\n",
       "    }\n",
       "\n",
       "    .dataframe thead th {\n",
       "        text-align: right;\n",
       "    }\n",
       "</style>\n",
       "<table border=\"1\" class=\"dataframe\">\n",
       "  <thead>\n",
       "    <tr style=\"text-align: right;\">\n",
       "      <th></th>\n",
       "      <th>Temperature</th>\n",
       "      <th>Day sin</th>\n",
       "      <th>Day cos</th>\n",
       "      <th>Year sin</th>\n",
       "      <th>Year cos</th>\n",
       "    </tr>\n",
       "    <tr>\n",
       "      <th>Date Time</th>\n",
       "      <th></th>\n",
       "      <th></th>\n",
       "      <th></th>\n",
       "      <th></th>\n",
       "      <th></th>\n",
       "    </tr>\n",
       "  </thead>\n",
       "  <tbody>\n",
       "    <tr>\n",
       "      <th>2009-01-01 00:10:00</th>\n",
       "      <td>-2.074013</td>\n",
       "      <td>0.043619</td>\n",
       "      <td>0.999048</td>\n",
       "      <td>0.009452</td>\n",
       "      <td>0.999955</td>\n",
       "    </tr>\n",
       "    <tr>\n",
       "      <th>2009-01-01 00:20:00</th>\n",
       "      <td>-2.120313</td>\n",
       "      <td>0.087156</td>\n",
       "      <td>0.996195</td>\n",
       "      <td>0.009571</td>\n",
       "      <td>0.999954</td>\n",
       "    </tr>\n",
       "    <tr>\n",
       "      <th>2009-01-01 00:30:00</th>\n",
       "      <td>-2.132184</td>\n",
       "      <td>0.130526</td>\n",
       "      <td>0.991445</td>\n",
       "      <td>0.009691</td>\n",
       "      <td>0.999953</td>\n",
       "    </tr>\n",
       "    <tr>\n",
       "      <th>2009-01-01 00:40:00</th>\n",
       "      <td>-2.108441</td>\n",
       "      <td>0.173648</td>\n",
       "      <td>0.984808</td>\n",
       "      <td>0.009810</td>\n",
       "      <td>0.999952</td>\n",
       "    </tr>\n",
       "    <tr>\n",
       "      <th>2009-01-01 00:50:00</th>\n",
       "      <td>-2.103692</td>\n",
       "      <td>0.216440</td>\n",
       "      <td>0.976296</td>\n",
       "      <td>0.009930</td>\n",
       "      <td>0.999951</td>\n",
       "    </tr>\n",
       "  </tbody>\n",
       "</table>\n",
       "</div>"
      ],
      "text/plain": [
       "                     Temperature   Day sin   Day cos  Year sin  Year cos\n",
       "Date Time                                                               \n",
       "2009-01-01 00:10:00    -2.074013  0.043619  0.999048  0.009452  0.999955\n",
       "2009-01-01 00:20:00    -2.120313  0.087156  0.996195  0.009571  0.999954\n",
       "2009-01-01 00:30:00    -2.132184  0.130526  0.991445  0.009691  0.999953\n",
       "2009-01-01 00:40:00    -2.108441  0.173648  0.984808  0.009810  0.999952\n",
       "2009-01-01 00:50:00    -2.103692  0.216440  0.976296  0.009930  0.999951"
      ]
     },
     "execution_count": 86,
     "metadata": {},
     "output_type": "execute_result"
    }
   ],
   "source": [
    "b = pd.DataFrame(temp_df['Temperature'])\n",
    "ss = StandardScaler()\n",
    "a = ss.fit_transform(X=b)\n",
    "temp_df[\"Temperature\"] = a\n",
    "temp_df.head()"
   ]
  },
  {
   "cell_type": "code",
   "execution_count": 99,
   "id": "019d252c-1f94-47f7-9e63-9b2b1ea18c6b",
   "metadata": {},
   "outputs": [],
   "source": [
    "def df_as_sequence_input2(data,window_size = 6):\n",
    "    data_numpy = data.to_numpy()\n",
    "    x = []\n",
    "    y = []\n",
    "    for i in range(len(data_numpy) - window_size):\n",
    "        row = [a for a in data_numpy[i:i+window_size]]\n",
    "        x.append(row)\n",
    "        label = data_numpy[i+window_size]\n",
    "        y.append(label[0])\n",
    "    return np.array(x),np.array(y)\n",
    "x2,y2 = df_as_sequence_input2(temp_df)\n"
   ]
  },
  {
   "cell_type": "code",
   "execution_count": 88,
   "id": "38567f83-beea-4e49-8829-3c1eefc1dbe9",
   "metadata": {
    "scrolled": true
   },
   "outputs": [
    {
     "data": {
      "text/plain": [
       "array([-2.12031274, -2.1321845 , -2.10844099, ..., -1.60745297,\n",
       "       -1.56827619, -1.58845817])"
      ]
     },
     "execution_count": 88,
     "metadata": {},
     "output_type": "execute_result"
    }
   ],
   "source": [
    "y2"
   ]
  },
  {
   "cell_type": "code",
   "execution_count": 91,
   "id": "5e5887ad-3f12-4198-90a6-7061a55a5886",
   "metadata": {},
   "outputs": [
    {
     "data": {
      "text/plain": [
       "((420545, 6, 5), (420545,))"
      ]
     },
     "execution_count": 91,
     "metadata": {},
     "output_type": "execute_result"
    }
   ],
   "source": [
    "x2.shape, y2.shape"
   ]
  },
  {
   "cell_type": "code",
   "execution_count": 100,
   "id": "9ecbbf62-4c8f-4a93-9dd8-aa9dc6495bea",
   "metadata": {},
   "outputs": [],
   "source": [
    "def train_test_val2(x,y,train_ratio,test_ratio,val_ratio):\n",
    "    \n",
    "    train_size = int(x.shape[0] * train_ratio)\n",
    "    test_size =  int(x.shape[0] * test_ratio)\n",
    "    val_size =  int(x.shape[0] * val_ratio)\n",
    "    \n",
    "    x_train,y_train = x[:294382] , y[:294382]\n",
    "    x_val,y_val = x[294382:3018491],y[294382:3018491]\n",
    "    x_test,y_test = x[3018491:],y[3018491:]\n",
    "    \n",
    "    return x_train,y_train,x_test,y_test,x_val,y_val\n",
    "\n",
    "\n",
    "train_ratio = 0.7\n",
    "test_ratio = 0.1\n",
    "val_ratio = 1 - train_ratio - test_ratio\n",
    "\n",
    "x_train2,y_train2,x_test2,y_test2,x_val2,y_val2 = train_test_val2(x2,y2,train_ratio,test_ratio,val_ratio)"
   ]
  },
  {
   "cell_type": "code",
   "execution_count": 101,
   "id": "02805a14-8299-4d40-863d-012d25b50004",
   "metadata": {},
   "outputs": [
    {
     "data": {
      "text/plain": [
       "(294382, 6, 5)"
      ]
     },
     "execution_count": 101,
     "metadata": {},
     "output_type": "execute_result"
    }
   ],
   "source": [
    "x_train2.shape"
   ]
  },
  {
   "cell_type": "code",
   "execution_count": 102,
   "id": "d23376dd-7d3d-432b-8dd8-7c2f277d0bc2",
   "metadata": {},
   "outputs": [],
   "source": [
    "model4 = Sequential([\n",
    "    InputLayer(shape=(6,5)),\n",
    "    LSTM(units = 64),\n",
    "    Dense(units=64,activation=\"relu\"),\n",
    "    Dense(units=1,activation = \"linear\")\n",
    "])"
   ]
  },
  {
   "cell_type": "code",
   "execution_count": 103,
   "id": "c13f240e-f60c-4a25-8911-cb725dfdbe24",
   "metadata": {},
   "outputs": [
    {
     "data": {
      "text/html": [
       "<pre style=\"white-space:pre;overflow-x:auto;line-height:normal;font-family:Menlo,'DejaVu Sans Mono',consolas,'Courier New',monospace\"><span style=\"font-weight: bold\">Model: \"sequential_4\"</span>\n",
       "</pre>\n"
      ],
      "text/plain": [
       "\u001b[1mModel: \"sequential_4\"\u001b[0m\n"
      ]
     },
     "metadata": {},
     "output_type": "display_data"
    },
    {
     "data": {
      "text/html": [
       "<pre style=\"white-space:pre;overflow-x:auto;line-height:normal;font-family:Menlo,'DejaVu Sans Mono',consolas,'Courier New',monospace\">┏━━━━━━━━━━━━━━━━━━━━━━━━━━━━━━━━━┳━━━━━━━━━━━━━━━━━━━━━━━━┳━━━━━━━━━━━━━━━┓\n",
       "┃<span style=\"font-weight: bold\"> Layer (type)                    </span>┃<span style=\"font-weight: bold\"> Output Shape           </span>┃<span style=\"font-weight: bold\">       Param # </span>┃\n",
       "┡━━━━━━━━━━━━━━━━━━━━━━━━━━━━━━━━━╇━━━━━━━━━━━━━━━━━━━━━━━━╇━━━━━━━━━━━━━━━┩\n",
       "│ lstm_1 (<span style=\"color: #0087ff; text-decoration-color: #0087ff\">LSTM</span>)                   │ (<span style=\"color: #00d7ff; text-decoration-color: #00d7ff\">None</span>, <span style=\"color: #00af00; text-decoration-color: #00af00\">64</span>)             │        <span style=\"color: #00af00; text-decoration-color: #00af00\">17,920</span> │\n",
       "├─────────────────────────────────┼────────────────────────┼───────────────┤\n",
       "│ dense_8 (<span style=\"color: #0087ff; text-decoration-color: #0087ff\">Dense</span>)                 │ (<span style=\"color: #00d7ff; text-decoration-color: #00d7ff\">None</span>, <span style=\"color: #00af00; text-decoration-color: #00af00\">64</span>)             │         <span style=\"color: #00af00; text-decoration-color: #00af00\">4,160</span> │\n",
       "├─────────────────────────────────┼────────────────────────┼───────────────┤\n",
       "│ dense_9 (<span style=\"color: #0087ff; text-decoration-color: #0087ff\">Dense</span>)                 │ (<span style=\"color: #00d7ff; text-decoration-color: #00d7ff\">None</span>, <span style=\"color: #00af00; text-decoration-color: #00af00\">1</span>)              │            <span style=\"color: #00af00; text-decoration-color: #00af00\">65</span> │\n",
       "└─────────────────────────────────┴────────────────────────┴───────────────┘\n",
       "</pre>\n"
      ],
      "text/plain": [
       "┏━━━━━━━━━━━━━━━━━━━━━━━━━━━━━━━━━┳━━━━━━━━━━━━━━━━━━━━━━━━┳━━━━━━━━━━━━━━━┓\n",
       "┃\u001b[1m \u001b[0m\u001b[1mLayer (type)                   \u001b[0m\u001b[1m \u001b[0m┃\u001b[1m \u001b[0m\u001b[1mOutput Shape          \u001b[0m\u001b[1m \u001b[0m┃\u001b[1m \u001b[0m\u001b[1m      Param #\u001b[0m\u001b[1m \u001b[0m┃\n",
       "┡━━━━━━━━━━━━━━━━━━━━━━━━━━━━━━━━━╇━━━━━━━━━━━━━━━━━━━━━━━━╇━━━━━━━━━━━━━━━┩\n",
       "│ lstm_1 (\u001b[38;5;33mLSTM\u001b[0m)                   │ (\u001b[38;5;45mNone\u001b[0m, \u001b[38;5;34m64\u001b[0m)             │        \u001b[38;5;34m17,920\u001b[0m │\n",
       "├─────────────────────────────────┼────────────────────────┼───────────────┤\n",
       "│ dense_8 (\u001b[38;5;33mDense\u001b[0m)                 │ (\u001b[38;5;45mNone\u001b[0m, \u001b[38;5;34m64\u001b[0m)             │         \u001b[38;5;34m4,160\u001b[0m │\n",
       "├─────────────────────────────────┼────────────────────────┼───────────────┤\n",
       "│ dense_9 (\u001b[38;5;33mDense\u001b[0m)                 │ (\u001b[38;5;45mNone\u001b[0m, \u001b[38;5;34m1\u001b[0m)              │            \u001b[38;5;34m65\u001b[0m │\n",
       "└─────────────────────────────────┴────────────────────────┴───────────────┘\n"
      ]
     },
     "metadata": {},
     "output_type": "display_data"
    },
    {
     "data": {
      "text/html": [
       "<pre style=\"white-space:pre;overflow-x:auto;line-height:normal;font-family:Menlo,'DejaVu Sans Mono',consolas,'Courier New',monospace\"><span style=\"font-weight: bold\"> Total params: </span><span style=\"color: #00af00; text-decoration-color: #00af00\">22,145</span> (86.50 KB)\n",
       "</pre>\n"
      ],
      "text/plain": [
       "\u001b[1m Total params: \u001b[0m\u001b[38;5;34m22,145\u001b[0m (86.50 KB)\n"
      ]
     },
     "metadata": {},
     "output_type": "display_data"
    },
    {
     "data": {
      "text/html": [
       "<pre style=\"white-space:pre;overflow-x:auto;line-height:normal;font-family:Menlo,'DejaVu Sans Mono',consolas,'Courier New',monospace\"><span style=\"font-weight: bold\"> Trainable params: </span><span style=\"color: #00af00; text-decoration-color: #00af00\">22,145</span> (86.50 KB)\n",
       "</pre>\n"
      ],
      "text/plain": [
       "\u001b[1m Trainable params: \u001b[0m\u001b[38;5;34m22,145\u001b[0m (86.50 KB)\n"
      ]
     },
     "metadata": {},
     "output_type": "display_data"
    },
    {
     "data": {
      "text/html": [
       "<pre style=\"white-space:pre;overflow-x:auto;line-height:normal;font-family:Menlo,'DejaVu Sans Mono',consolas,'Courier New',monospace\"><span style=\"font-weight: bold\"> Non-trainable params: </span><span style=\"color: #00af00; text-decoration-color: #00af00\">0</span> (0.00 B)\n",
       "</pre>\n"
      ],
      "text/plain": [
       "\u001b[1m Non-trainable params: \u001b[0m\u001b[38;5;34m0\u001b[0m (0.00 B)\n"
      ]
     },
     "metadata": {},
     "output_type": "display_data"
    }
   ],
   "source": [
    "model4.compile(optimizer = Adam(learning_rate=0.001),loss = MeanSquaredError() ,metrics = [RootMeanSquaredError()])\n",
    "model4.summary()"
   ]
  },
  {
   "cell_type": "code",
   "execution_count": 95,
   "id": "b1e5f4b3-7890-406c-975c-6ddd0cc88e97",
   "metadata": {},
   "outputs": [
    {
     "name": "stdout",
     "output_type": "stream",
     "text": [
      "Epoch 1/10\n",
      "\u001b[1m9200/9200\u001b[0m \u001b[32m━━━━━━━━━━━━━━━━━━━━\u001b[0m\u001b[37m\u001b[0m \u001b[1m15s\u001b[0m 1ms/step - loss: 0.0125 - root_mean_squared_error: 0.0843 - val_loss: 3.6797e-04 - val_root_mean_squared_error: 0.0192\n",
      "Epoch 2/10\n",
      "\u001b[1m9200/9200\u001b[0m \u001b[32m━━━━━━━━━━━━━━━━━━━━\u001b[0m\u001b[37m\u001b[0m \u001b[1m13s\u001b[0m 1ms/step - loss: 3.0474e-04 - root_mean_squared_error: 0.0174 - val_loss: 1.4206e-04 - val_root_mean_squared_error: 0.0119\n",
      "Epoch 3/10\n",
      "\u001b[1m9200/9200\u001b[0m \u001b[32m━━━━━━━━━━━━━━━━━━━━\u001b[0m\u001b[37m\u001b[0m \u001b[1m13s\u001b[0m 1ms/step - loss: 1.9787e-04 - root_mean_squared_error: 0.0141 - val_loss: 8.8788e-05 - val_root_mean_squared_error: 0.0094\n",
      "Epoch 4/10\n",
      "\u001b[1m9200/9200\u001b[0m \u001b[32m━━━━━━━━━━━━━━━━━━━━\u001b[0m\u001b[37m\u001b[0m \u001b[1m13s\u001b[0m 1ms/step - loss: 1.2633e-04 - root_mean_squared_error: 0.0112 - val_loss: 1.0042e-04 - val_root_mean_squared_error: 0.0100\n",
      "Epoch 5/10\n",
      "\u001b[1m9200/9200\u001b[0m \u001b[32m━━━━━━━━━━━━━━━━━━━━\u001b[0m\u001b[37m\u001b[0m \u001b[1m13s\u001b[0m 1ms/step - loss: 1.0236e-04 - root_mean_squared_error: 0.0101 - val_loss: 1.2794e-04 - val_root_mean_squared_error: 0.0113\n",
      "Epoch 6/10\n",
      "\u001b[1m9200/9200\u001b[0m \u001b[32m━━━━━━━━━━━━━━━━━━━━\u001b[0m\u001b[37m\u001b[0m \u001b[1m13s\u001b[0m 1ms/step - loss: 7.6882e-05 - root_mean_squared_error: 0.0088 - val_loss: 1.3758e-04 - val_root_mean_squared_error: 0.0117\n",
      "Epoch 7/10\n",
      "\u001b[1m9200/9200\u001b[0m \u001b[32m━━━━━━━━━━━━━━━━━━━━\u001b[0m\u001b[37m\u001b[0m \u001b[1m13s\u001b[0m 1ms/step - loss: 5.8084e-05 - root_mean_squared_error: 0.0076 - val_loss: 8.2810e-05 - val_root_mean_squared_error: 0.0091\n",
      "Epoch 8/10\n",
      "\u001b[1m9200/9200\u001b[0m \u001b[32m━━━━━━━━━━━━━━━━━━━━\u001b[0m\u001b[37m\u001b[0m \u001b[1m13s\u001b[0m 1ms/step - loss: 4.3631e-05 - root_mean_squared_error: 0.0066 - val_loss: 6.9142e-05 - val_root_mean_squared_error: 0.0083\n",
      "Epoch 9/10\n",
      "\u001b[1m9200/9200\u001b[0m \u001b[32m━━━━━━━━━━━━━━━━━━━━\u001b[0m\u001b[37m\u001b[0m \u001b[1m13s\u001b[0m 1ms/step - loss: 3.8424e-05 - root_mean_squared_error: 0.0062 - val_loss: 2.4118e-05 - val_root_mean_squared_error: 0.0049\n",
      "Epoch 10/10\n",
      "\u001b[1m9200/9200\u001b[0m \u001b[32m━━━━━━━━━━━━━━━━━━━━\u001b[0m\u001b[37m\u001b[0m \u001b[1m14s\u001b[0m 2ms/step - loss: 4.2733e-05 - root_mean_squared_error: 0.0065 - val_loss: 9.3838e-06 - val_root_mean_squared_error: 0.0031\n"
     ]
    },
    {
     "data": {
      "text/plain": [
       "<keras.src.callbacks.history.History at 0x1b14bd8d8e0>"
      ]
     },
     "execution_count": 95,
     "metadata": {},
     "output_type": "execute_result"
    }
   ],
   "source": [
    "model4.fit(x = x_train2, y = y_train2, validation_data= (x_val2,y_val2),epochs = 10)"
   ]
  },
  {
   "cell_type": "code",
   "execution_count": 97,
   "id": "db4649ac-6dbf-456a-9189-cc56eca172cb",
   "metadata": {},
   "outputs": [
    {
     "name": "stdout",
     "output_type": "stream",
     "text": [
      "\u001b[1m9200/9200\u001b[0m \u001b[32m━━━━━━━━━━━━━━━━━━━━\u001b[0m\u001b[37m\u001b[0m \u001b[1m5s\u001b[0m 591us/step\n"
     ]
    }
   ],
   "source": [
    "model4pred = model4.predict(x= x_train2).flatten()\n",
    "model4_pred_df = pd.DataFrame({\"Predictions\" : model4pred , \"Actual\" : y_train2}) "
   ]
  },
  {
   "cell_type": "code",
   "execution_count": 98,
   "id": "37e058af-9fd4-4065-b633-f0d6bc9fcd82",
   "metadata": {},
   "outputs": [
    {
     "data": {
      "image/png": "[encoded data removed]",
      "text/plain": [
       "<Figure size 640x480 with 1 Axes>"
      ]
     },
     "metadata": {},
     "output_type": "display_data"
    }
   ],
   "source": [
    "sns.lineplot(data = model4_pred_df[\"Predictions\"])\n",
    "sns.lineplot(data = model4_pred_df[\"Actual\"])\n",
    "plt.show()"
   ]
  }
 ],
 "metadata": {
  "kernelspec": {
   "display_name": "Python 3 (ipykernel)",
   "language": "python",
   "name": "python3"
  },
  "language_info": {
   "codemirror_mode": {
    "name": "ipython",
    "version": 3
   },
   "file_extension": ".py",
   "mimetype": "text/x-python",
   "name": "python",
   "nbconvert_exporter": "python",
   "pygments_lexer": "ipython3",
   "version": "3.12.4"
  }
 },
 "nbformat": 4,
 "nbformat_minor": 5
}
